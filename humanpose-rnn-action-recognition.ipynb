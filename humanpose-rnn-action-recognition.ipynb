{
 "cells": [
  {
   "cell_type": "markdown",
   "metadata": {},
   "source": [
    "## Summary\n",
    "We implemented a deep neural network to predict human actions by modifying the gait recognition model by Marian Margeta (https://github.com/marian-margeta/gait-recognition). We extracted the spatial features of the human poses of each frame and extract their temporal features by running them through a Recurrent Neural Network. At last, we classify the human actions with a Logistic Regression Model using the temporal features as input. \n",
    "\n",
    "Dataset Used:\n",
    "\n",
    "https://www.crcv.ucf.edu/data/UCF_YouTube_Action.php\n",
    "- UCF11 Dataset (or UCF Youtube Action Dataset): contains 11 action categories: basketball shooting, biking/cycling, diving, golf swinging, horse back riding, soccer juggling, swinging, tennis swinging, trampoline jumping, volleyball spiking, and walking with a dog.\n",
    "\n",
    "https://www.crcv.ucf.edu/data/UCF101.php\n",
    "- UCF101 Dataset: \"With 13320 videos from 101 action categories, UCF101 gives the largest diversity in terms of actions and with the presence of large variations in camera motion, object appearance and pose, object scale, viewpoint, cluttered background, illumination conditions, etc, it is the most challenging data set to date.\"\n",
    "\n",
    "http://dipersec.kingston.ac.uk/G3D/G3D.html\n",
    "- D3G Dataset: G3D dataset contains a range of gaming actions captured with Microsoft Kinect. The Kinect enabled us to record synchronised video, depth and skeleton data. The dataset contains 10 subjects performing 20 gaming actions, from which we selected 7 categories: punch right, punch left, kick right, kick left, wave, flap arms and clap.\n",
    "\n",
    "Results:\n",
    "We were able to achieve a 94.87% accuracy on D3G dataset, 74.24% accuracy on UCF11 dataset, and 64.55% accuracy on UCF101 dataset."
   ]
  },
  {
   "cell_type": "markdown",
   "metadata": {},
   "source": [
    "## Configurations"
   ]
  },
  {
   "cell_type": "code",
   "execution_count": 51,
   "metadata": {},
   "outputs": [],
   "source": [
    "import os\n",
    "import cv2\n",
    "import joblib\n",
    "import time\n",
    "import tensorflow as tf\n",
    "import pandas as pd\n",
    "import numpy as np\n",
    "from io import BytesIO\n",
    "from queue import Queue\n",
    "from PIL import Image\n",
    "from ipywidgets import Video\n",
    "\n",
    "from sklearn import svm\n",
    "from sklearn.linear_model import LogisticRegression\n",
    "from sklearn.model_selection import train_test_split\n",
    "from sklearn import metrics\n",
    "from sklearn.metrics import roc_auc_score\n",
    "from sklearn.metrics import roc_curve\n",
    "\n",
    "from human_pose_nn import HumanPoseIRNetwork\n",
    "from gait_nn import GaitNetwork"
   ]
  },
  {
   "cell_type": "code",
   "execution_count": 74,
   "metadata": {},
   "outputs": [],
   "source": [
    "# directory of raw data\n",
    "UCF_11_DATA_DIR = \"D:/Data/movement/UCF11_updated_mpg/\"\n",
    "UCF_101_DATA_DIR = \"D:/Data/movement/UCF101/\"\n",
    "G3D_DATA_DIR = \"D:/Data/movement/basic_action/\"\n",
    "\n",
    "# saved model paths\n",
    "UCF_11_LOGREG_MODEL_PATH = \"models/logreg_ucf_11.sav\"\n",
    "UCF_101_LOGREG_MODEL_PATH = \"models/logreg_ucf_101.sav\"\n",
    "G3D_LOGREG_MODEL_PATH = \"models/logreg_g3d.sav\"\n",
    "\n",
    "# for data pre-processing\n",
    "MAX_NUM_FRAME_PER_VIDEO = 200\n",
    "MAX_NUM_DATA_PER_CATEGORY = 30"
   ]
  },
  {
   "cell_type": "code",
   "execution_count": 78,
   "metadata": {},
   "outputs": [],
   "source": [
    "UCF_11_CATEGORIES = [\"basketball\", \"diving\", \"diving\", \"golf_swing\", \"horse_riding\", \"soccer_juggling\", \"swing\", \n",
    "              \"tennis_swing\", \"trampoline_jumping\", \"volleybal_spiking\", \"walking\"]\n",
    "UCF_101_CATEGORIES = ['ApplyEyeMakeup' 'ApplyLipstick' 'Archery' 'BabyCrawling' 'BalanceBeam'\n",
    " 'BandMarching' 'BaseballPitch' 'Basketball' 'BasketballDunk' 'BenchPress'\n",
    " 'Biking' 'Billiards' 'BlowDryHair' 'BlowingCandles' 'BodyWeightSquats'\n",
    " 'Bowling' 'BoxingPunchingBag' 'BoxingSpeedBag' 'BreastStroke'\n",
    " 'BrushingTeeth' 'CleanAndJerk' 'CliffDiving' 'CricketBowling'\n",
    " 'CricketShot' 'CuttingInKitchen' 'Diving' 'Drumming' 'Fencing'\n",
    " 'FieldHockeyPenalty' 'FloorGymnastics' 'FrisbeeCatch' 'FrontCrawl'\n",
    " 'GolfSwing' 'Haircut' 'HammerThrow' 'Hammering' 'HandstandPushups'\n",
    " 'HandstandWalking' 'HeadMassage' 'HighJump' 'HorseRace' 'HorseRiding'\n",
    " 'HulaHoop' 'IceDancing' 'JavelinThrow' 'JugglingBalls' 'JumpRope'\n",
    " 'JumpingJack' 'Kayaking' 'Knitting' 'LongJump' 'Lunges' 'MilitaryParade'\n",
    " 'Mixing' 'MoppingFloor' 'Nunchucks' 'ParallelBars' 'PizzaTossing'\n",
    " 'PlayingCello' 'PlayingDaf' 'PlayingDhol' 'PlayingFlute' 'PlayingGuitar'\n",
    " 'PlayingPiano' 'PlayingSitar' 'PlayingTabla' 'PlayingViolin' 'PoleVault'\n",
    " 'PommelHorse' 'PullUps' 'Punch' 'PushUps' 'Rafting' 'RockClimbingIndoor'\n",
    " 'RopeClimbing' 'Rowing' 'SalsaSpin' 'ShavingBeard' 'Shotput'\n",
    " 'SkateBoarding' 'Skiing' 'Skijet' 'SkyDiving' 'SoccerJuggling'\n",
    " 'SoccerPenalty' 'StillRings' 'SumoWrestling' 'Surfing' 'Swing'\n",
    " 'TableTennisShot' 'TaiChi' 'TennisSwing' 'ThrowDiscus'\n",
    " 'TrampolineJumping' 'Typing' 'UnevenBars' 'VolleyballSpiking'\n",
    " 'WalkingWithDog' 'WallPushups' 'WritingOnBoard' 'YoYo']\n",
    "G3D_CATEGORIES = [\"Clap\", \"Flap Arms\", \"Left Kick\", \"Left Punch\", \"Right Kick\", \"Right Punch\", \"Wave\"]"
   ]
  },
  {
   "cell_type": "code",
   "execution_count": 49,
   "metadata": {},
   "outputs": [
    {
     "name": "stdout",
     "output_type": "stream",
     "text": [
      "Default GPU Device: /device:GPU:0\n"
     ]
    }
   ],
   "source": [
    "config = tf.ConfigProto()\n",
    "config.gpu_options.allow_growth = True\n",
    "session = tf.Session(config=config)\n",
    "keras.backend.set_session(session)\n",
    "if tf.test.gpu_device_name():\n",
    "    print('Default GPU Device: {}'.format(tf.test.gpu_device_name()))\n",
    "else:\n",
    "    print(\"Please install GPU version of TF\")"
   ]
  },
  {
   "cell_type": "markdown",
   "metadata": {},
   "source": [
    "## Data Processing\n",
    "Process Video and save them as frames"
   ]
  },
  {
   "cell_type": "code",
   "execution_count": 3,
   "metadata": {},
   "outputs": [],
   "source": [
    "# process video as frames and save them as jpeg\n",
    "def process_video_frames(index, root, file_path):\n",
    "    video = cv2.VideoCapture(file_path)\n",
    "    i = 0\n",
    "    while i < MAX_NUM_FRAME_PER_VIDEO and video.isOpened():\n",
    "        ret, frame = video.read()\n",
    "        if ret == False:\n",
    "            break\n",
    "        if not os.path.exists(root + '/' + str(index)):\n",
    "            os.makedirs(root + '/' + str(index))\n",
    "        cv2.imwrite(root + '/' + str(index) + '/frame'+str(i)+'.jpg', frame)\n",
    "        i+=1\n",
    "    video.release()\n",
    "    cv2.destroyAllWindows()"
   ]
  },
  {
   "cell_type": "code",
   "execution_count": 4,
   "metadata": {},
   "outputs": [],
   "source": [
    "def process_ucf_11_dataset():\n",
    "    dataset_dir = os.path.join(UCF_11_DATA_DIR, \"train\")\n",
    "    (root, dirs, files) = next(os.walk(os.path.abspath(dataset_dir)))\n",
    "    print(\"Processing UCF11 dataset containing\", len(dirs), \"classes:\", dirs)\n",
    "    for category in dirs:\n",
    "        temp_dir = os.path.join(dataset_dir, category)\n",
    "        (root, dirs, files) = next(os.walk(os.path.abspath(temp_dir)))\n",
    "        print(category, \"contains\", len(dirs), \"subfolders.\")\n",
    "        for sub_folder in dirs:\n",
    "            sub_dir = os.path.join(temp_dir, sub_folder)               \n",
    "            (root, dirs, files) = next(os.walk(os.path.abspath(sub_dir)))\n",
    "            video_files = [i for i in files if i[-3:]==\"mpg\"]\n",
    "            i = 1\n",
    "            for video_file in video_files:\n",
    "                video_path = os.path.join(root, video_file) \n",
    "                process_video_frames(i, root, video_path)\n",
    "                i += 1\n",
    "    print(\"Processing completed.\")"
   ]
  },
  {
   "cell_type": "code",
   "execution_count": null,
   "metadata": {},
   "outputs": [],
   "source": [
    "# Only have to run this once\n",
    "process_ucf_11_dataset()"
   ]
  },
  {
   "cell_type": "markdown",
   "metadata": {},
   "source": [
    "## Initialization\n",
    "Load pre-trained models. \n",
    "We will build our model on top of these models.\n",
    "'MPII+LSP.ckpt' was trained on images from MPII (http://human-pose.mpi-inf.mpg.de/) and LSP (http://www.comp.leeds.ac.uk/mat4saj/lsp.html) database. The HumanPoseNN was trained therefore to be able to detect human joints.\n",
    "'H3.6m-GRU-1.ckpt' was trained to identify 32 peoples (10 training, 6 validation, 16 testing) using 20 gait sequences for each person in the GaitNN."
   ]
  },
  {
   "cell_type": "code",
   "execution_count": 5,
   "metadata": {},
   "outputs": [
    {
     "name": "stdout",
     "output_type": "stream",
     "text": [
      "WARNING:tensorflow:From C:\\Users\\Yuhao\\Anaconda3\\lib\\site-packages\\tensorflow\\python\\framework\\op_def_library.py:263: colocate_with (from tensorflow.python.framework.ops) is deprecated and will be removed in a future version.\n",
      "Instructions for updating:\n",
      "Colocations handled automatically by placer.\n",
      "WARNING:tensorflow:From C:\\Users\\Yuhao\\Anaconda3\\lib\\site-packages\\tensorflow\\contrib\\layers\\python\\layers\\layers.py:1624: flatten (from tensorflow.python.layers.core) is deprecated and will be removed in a future version.\n",
      "Instructions for updating:\n",
      "Use keras.layers.flatten instead.\n",
      "WARNING:tensorflow:From D:\\Deep-Learning\\action-recognition-openpose\\gait_nn.py:269: GRUCell.__init__ (from tensorflow.python.ops.rnn_cell_impl) is deprecated and will be removed in a future version.\n",
      "Instructions for updating:\n",
      "This class is equivalent as tf.keras.layers.GRUCell, and will be replaced by that in Tensorflow 2.0.\n",
      "WARNING:tensorflow:From D:\\Deep-Learning\\action-recognition-openpose\\gait_nn.py:270: MultiRNNCell.__init__ (from tensorflow.python.ops.rnn_cell_impl) is deprecated and will be removed in a future version.\n",
      "Instructions for updating:\n",
      "This class is equivalent as tf.keras.layers.StackedRNNCells, and will be replaced by that in Tensorflow 2.0.\n",
      "WARNING:tensorflow:From D:\\Deep-Learning\\action-recognition-openpose\\gait_nn.py:273: dynamic_rnn (from tensorflow.python.ops.rnn) is deprecated and will be removed in a future version.\n",
      "Instructions for updating:\n",
      "Please use `keras.layers.RNN(cell)`, which is equivalent to this API\n",
      "WARNING:tensorflow:From C:\\Users\\Yuhao\\Anaconda3\\lib\\site-packages\\tensorflow\\python\\training\\saver.py:1266: checkpoint_exists (from tensorflow.python.training.checkpoint_management) is deprecated and will be removed in a future version.\n",
      "Instructions for updating:\n",
      "Use standard file APIs to check for files with this prefix.\n",
      "INFO:tensorflow:Restoring parameters from models/MPII+LSP.ckpt\n",
      "INFO:tensorflow:Restoring parameters from models/H3.6m-GRU-1.ckpt\n"
     ]
    }
   ],
   "source": [
    "# Initialize computational graphs of both sub-networks\n",
    "net_pose = HumanPoseIRNetwork()\n",
    "net_gait = GaitNetwork(recurrent_unit = 'GRU', rnn_layers = 1)\n",
    "\n",
    "# Load pre-trained models\n",
    "net_pose.restore('models/MPII+LSP.ckpt')\n",
    "net_gait.restore('models/H3.6m-GRU-1.ckpt')"
   ]
  },
  {
   "cell_type": "markdown",
   "metadata": {},
   "source": [
    "## Load Dataset and Extract Features"
   ]
  },
  {
   "cell_type": "code",
   "execution_count": 6,
   "metadata": {},
   "outputs": [],
   "source": [
    "# read video as frames and return a numpy array\n",
    "def read_video_frames(file_path):\n",
    "    print(\"Reading video frames from\", file_path)\n",
    "    frame_batch = []\n",
    "    video = cv2.VideoCapture(file_path)\n",
    "    i = 0\n",
    "    while i < MAX_NUM_FRAME_PER_VIDEO and video.isOpened():\n",
    "        ret, frame = video.read()\n",
    "        if ret == False:\n",
    "            break\n",
    "        resized_frame = np.array(Image.fromarray(frame).resize((299, 299)))\n",
    "        frame_batch.append(resized_frame)\n",
    "        i+=1\n",
    "           \n",
    "    video.release()\n",
    "    cv2.destroyAllWindows()\n",
    "    return np.array(frame_batch, dtype='float32')    "
   ]
  },
  {
   "cell_type": "code",
   "execution_count": 34,
   "metadata": {},
   "outputs": [],
   "source": [
    "# read frames as images and return a numpy array\n",
    "def read_image_frames(sub_dir):\n",
    "    print(\"Reading image frames from\", sub_dir)\n",
    "    img_batch = []\n",
    "    (root, dirs, files) = next(os.walk(os.path.abspath(sub_dir)))\n",
    "    # load images directly\n",
    "    image_files = [i for i in files if i[-3:]==\"jpg\" or i[-3:]==\"png\"]\n",
    "    for image_file in image_files:\n",
    "        image_path = os.path.join(root, image_file)\n",
    "        img = cv2.imread(image_path)\n",
    "        resized_frame = cv2.resize(img, (299, 299))\n",
    "        img_batch.append(resized_frame)\n",
    "    return np.array(img_batch, dtype='float32')  "
   ]
  },
  {
   "cell_type": "code",
   "execution_count": 8,
   "metadata": {},
   "outputs": [],
   "source": [
    "# extract features through pretrained models\n",
    "def extract_features(frames):\n",
    "    # Create features from input frames in shape (TIME, HEIGHT, WIDTH, CHANNELS) \n",
    "    spatial_features = net_pose.feed_forward_features(frames)\n",
    "\n",
    "    # Process spatial features and generate temporal features \n",
    "    temporal_features, state = net_gait.feed_forward(spatial_features)\n",
    "    return temporal_features"
   ]
  },
  {
   "cell_type": "code",
   "execution_count": 40,
   "metadata": {},
   "outputs": [],
   "source": [
    "# load G3D dataset for the first time\n",
    "def load_g3d_dataset():\n",
    "    features = []\n",
    "    labels = []  \n",
    "    dataset_dir = os.path.join(G3D_DATA_DIR, \"train\")\n",
    "    (root, dirs, files) = next(os.walk(os.path.abspath(dataset_dir)))\n",
    "    print(\"Loading G3D dataset containing\", len(dirs), \"classes:\", dirs)\n",
    "    cat = 0\n",
    "    for category in dirs:\n",
    "        temp_dir = os.path.join(dataset_dir, category)\n",
    "        (root, dirs, files) = next(os.walk(os.path.abspath(temp_dir)))\n",
    "        print(category, \"contains\", len(dirs), \"subfolders.\")\n",
    "        \n",
    "        for data in dirs:\n",
    "            sub_dir = os.path.join(temp_dir, data)       \n",
    "            frames = read_image_frames(sub_dir)\n",
    "            temporal_features = extract_features(frames)\n",
    "            # add to train\n",
    "            features.append(temporal_features)\n",
    "            labels.append(cat)\n",
    "        cat += 1\n",
    "        \n",
    "    print(\"Loading G3D Dataset Completed.\")    \n",
    "    return np.array(features, dtype='float32'), np.array(labels)"
   ]
  },
  {
   "cell_type": "code",
   "execution_count": 9,
   "metadata": {},
   "outputs": [],
   "source": [
    "# load UCF11 dataset for the first time\n",
    "def load_ucf_11_dataset():\n",
    "    features = []\n",
    "    labels = []  \n",
    "    dataset_dir = os.path.join(UCF_11_DATA_DIR, \"train\")\n",
    "    (root, dirs, files) = next(os.walk(os.path.abspath(dataset_dir)))\n",
    "    print(\"Loading UCF11 dataset containing\", len(dirs), \"classes:\", dirs)\n",
    "    cat = 0\n",
    "    for category in dirs:\n",
    "        i = 0\n",
    "        temp_dir = os.path.join(dataset_dir, category)\n",
    "        (root, sub_dirs, files) = next(os.walk(os.path.abspath(temp_dir)))\n",
    "        print(category, \"has\", len(sub_dirs), \"subfolders\")\n",
    "        \n",
    "        for sub_folder in sub_dirs:\n",
    "            sub_dir = os.path.join(temp_dir, sub_folder)       \n",
    "            (root, image_dirs, files) = next(os.walk(os.path.abspath(sub_dir)))\n",
    "            for image_folder in image_dirs: \n",
    "                if i >= MAX_NUM_DATA_PER_CATEGORY:\n",
    "                    break\n",
    "                image_dir = os.path.join(sub_dir, image_folder)       \n",
    "                video_frames = read_image_frames(image_dir)\n",
    "                temporal_features = extract_features(video_frames)                    \n",
    "                # add to arrays\n",
    "                features.append(temporal_features)\n",
    "                labels.append(cat)\n",
    "                i += 1\n",
    "        cat += 1\n",
    "\n",
    "    print(\"Loading UCF11 Dataset Completed.\")    \n",
    "    return np.array(features, dtype='float32'), np.array(labels, dtype='int')"
   ]
  },
  {
   "cell_type": "code",
   "execution_count": 79,
   "metadata": {},
   "outputs": [
    {
     "name": "stdout",
     "output_type": "stream",
     "text": [
      "Loading UCF11 dataset containing 11 classes: ['basketball', 'biking', 'diving', 'golf_swing', 'horse_riding', 'soccer_juggling', 'swing', 'tennis_swing', 'trampoline_jumping', 'volleyball_spiking', 'walking']\n",
      "basketball has 25 subfolders\n",
      "Reading image frames from D:/Data/movement/UCF11_updated_mpg/train\\basketball\\v_shooting_01\\1\n",
      "Reading image frames from D:/Data/movement/UCF11_updated_mpg/train\\basketball\\v_shooting_01\\2\n",
      "Reading image frames from D:/Data/movement/UCF11_updated_mpg/train\\basketball\\v_shooting_01\\3\n",
      "Reading image frames from D:/Data/movement/UCF11_updated_mpg/train\\basketball\\v_shooting_01\\4\n",
      "Reading image frames from D:/Data/movement/UCF11_updated_mpg/train\\basketball\\v_shooting_01\\5\n",
      "Reading image frames from D:/Data/movement/UCF11_updated_mpg/train\\basketball\\v_shooting_01\\6\n",
      "Reading image frames from D:/Data/movement/UCF11_updated_mpg/train\\basketball\\v_shooting_01\\7\n",
      "Reading image frames from D:/Data/movement/UCF11_updated_mpg/train\\basketball\\v_shooting_02\\1\n",
      "Reading image frames from D:/Data/movement/UCF11_updated_mpg/train\\basketball\\v_shooting_02\\2\n",
      "Reading image frames from D:/Data/movement/UCF11_updated_mpg/train\\basketball\\v_shooting_02\\3\n",
      "Reading image frames from D:/Data/movement/UCF11_updated_mpg/train\\basketball\\v_shooting_02\\4\n",
      "Reading image frames from D:/Data/movement/UCF11_updated_mpg/train\\basketball\\v_shooting_02\\5\n",
      "Reading image frames from D:/Data/movement/UCF11_updated_mpg/train\\basketball\\v_shooting_02\\6\n",
      "Reading image frames from D:/Data/movement/UCF11_updated_mpg/train\\basketball\\v_shooting_03\\1\n",
      "Reading image frames from D:/Data/movement/UCF11_updated_mpg/train\\basketball\\v_shooting_03\\2\n",
      "Reading image frames from D:/Data/movement/UCF11_updated_mpg/train\\basketball\\v_shooting_03\\3\n",
      "Reading image frames from D:/Data/movement/UCF11_updated_mpg/train\\basketball\\v_shooting_03\\4\n",
      "Reading image frames from D:/Data/movement/UCF11_updated_mpg/train\\basketball\\v_shooting_03\\5\n",
      "Reading image frames from D:/Data/movement/UCF11_updated_mpg/train\\basketball\\v_shooting_03\\6\n",
      "Reading image frames from D:/Data/movement/UCF11_updated_mpg/train\\basketball\\v_shooting_04\\1\n",
      "Reading image frames from D:/Data/movement/UCF11_updated_mpg/train\\basketball\\v_shooting_04\\2\n",
      "Reading image frames from D:/Data/movement/UCF11_updated_mpg/train\\basketball\\v_shooting_04\\3\n",
      "Reading image frames from D:/Data/movement/UCF11_updated_mpg/train\\basketball\\v_shooting_04\\4\n",
      "Reading image frames from D:/Data/movement/UCF11_updated_mpg/train\\basketball\\v_shooting_05\\1\n",
      "Reading image frames from D:/Data/movement/UCF11_updated_mpg/train\\basketball\\v_shooting_05\\2\n",
      "Reading image frames from D:/Data/movement/UCF11_updated_mpg/train\\basketball\\v_shooting_05\\3\n",
      "Reading image frames from D:/Data/movement/UCF11_updated_mpg/train\\basketball\\v_shooting_05\\4\n",
      "Reading image frames from D:/Data/movement/UCF11_updated_mpg/train\\basketball\\v_shooting_06\\1\n",
      "Reading image frames from D:/Data/movement/UCF11_updated_mpg/train\\basketball\\v_shooting_06\\2\n",
      "Reading image frames from D:/Data/movement/UCF11_updated_mpg/train\\basketball\\v_shooting_06\\3\n",
      "biking has 25 subfolders\n",
      "Reading image frames from D:/Data/movement/UCF11_updated_mpg/train\\biking\\v_biking_01\\1\n",
      "Reading image frames from D:/Data/movement/UCF11_updated_mpg/train\\biking\\v_biking_01\\2\n",
      "Reading image frames from D:/Data/movement/UCF11_updated_mpg/train\\biking\\v_biking_01\\3\n",
      "Reading image frames from D:/Data/movement/UCF11_updated_mpg/train\\biking\\v_biking_01\\4\n",
      "Reading image frames from D:/Data/movement/UCF11_updated_mpg/train\\biking\\v_biking_02\\1\n",
      "Reading image frames from D:/Data/movement/UCF11_updated_mpg/train\\biking\\v_biking_02\\2\n",
      "Reading image frames from D:/Data/movement/UCF11_updated_mpg/train\\biking\\v_biking_02\\3\n",
      "Reading image frames from D:/Data/movement/UCF11_updated_mpg/train\\biking\\v_biking_02\\4\n",
      "Reading image frames from D:/Data/movement/UCF11_updated_mpg/train\\biking\\v_biking_02\\5\n",
      "Reading image frames from D:/Data/movement/UCF11_updated_mpg/train\\biking\\v_biking_02\\6\n",
      "Reading image frames from D:/Data/movement/UCF11_updated_mpg/train\\biking\\v_biking_02\\7\n",
      "Reading image frames from D:/Data/movement/UCF11_updated_mpg/train\\biking\\v_biking_03\\1\n",
      "Reading image frames from D:/Data/movement/UCF11_updated_mpg/train\\biking\\v_biking_03\\2\n",
      "Reading image frames from D:/Data/movement/UCF11_updated_mpg/train\\biking\\v_biking_03\\3\n",
      "Reading image frames from D:/Data/movement/UCF11_updated_mpg/train\\biking\\v_biking_03\\4\n",
      "Reading image frames from D:/Data/movement/UCF11_updated_mpg/train\\biking\\v_biking_04\\1\n",
      "Reading image frames from D:/Data/movement/UCF11_updated_mpg/train\\biking\\v_biking_04\\2\n",
      "Reading image frames from D:/Data/movement/UCF11_updated_mpg/train\\biking\\v_biking_04\\3\n",
      "Reading image frames from D:/Data/movement/UCF11_updated_mpg/train\\biking\\v_biking_04\\4\n",
      "Reading image frames from D:/Data/movement/UCF11_updated_mpg/train\\biking\\v_biking_04\\5\n",
      "Reading image frames from D:/Data/movement/UCF11_updated_mpg/train\\biking\\v_biking_05\\1\n",
      "Reading image frames from D:/Data/movement/UCF11_updated_mpg/train\\biking\\v_biking_05\\2\n",
      "Reading image frames from D:/Data/movement/UCF11_updated_mpg/train\\biking\\v_biking_05\\3\n",
      "Reading image frames from D:/Data/movement/UCF11_updated_mpg/train\\biking\\v_biking_05\\4\n",
      "Reading image frames from D:/Data/movement/UCF11_updated_mpg/train\\biking\\v_biking_05\\5\n",
      "Reading image frames from D:/Data/movement/UCF11_updated_mpg/train\\biking\\v_biking_05\\6\n",
      "Reading image frames from D:/Data/movement/UCF11_updated_mpg/train\\biking\\v_biking_05\\7\n",
      "Reading image frames from D:/Data/movement/UCF11_updated_mpg/train\\biking\\v_biking_05\\8\n",
      "Reading image frames from D:/Data/movement/UCF11_updated_mpg/train\\biking\\v_biking_05\\9\n",
      "Reading image frames from D:/Data/movement/UCF11_updated_mpg/train\\biking\\v_biking_06\\1\n",
      "diving has 25 subfolders\n",
      "Reading image frames from D:/Data/movement/UCF11_updated_mpg/train\\diving\\v_diving_01\\1\n",
      "Reading image frames from D:/Data/movement/UCF11_updated_mpg/train\\diving\\v_diving_01\\2\n",
      "Reading image frames from D:/Data/movement/UCF11_updated_mpg/train\\diving\\v_diving_01\\3\n",
      "Reading image frames from D:/Data/movement/UCF11_updated_mpg/train\\diving\\v_diving_01\\4\n",
      "Reading image frames from D:/Data/movement/UCF11_updated_mpg/train\\diving\\v_diving_01\\5\n",
      "Reading image frames from D:/Data/movement/UCF11_updated_mpg/train\\diving\\v_diving_01\\6\n",
      "Reading image frames from D:/Data/movement/UCF11_updated_mpg/train\\diving\\v_diving_01\\7\n",
      "Reading image frames from D:/Data/movement/UCF11_updated_mpg/train\\diving\\v_diving_02\\1\n",
      "Reading image frames from D:/Data/movement/UCF11_updated_mpg/train\\diving\\v_diving_02\\2\n",
      "Reading image frames from D:/Data/movement/UCF11_updated_mpg/train\\diving\\v_diving_02\\3\n",
      "Reading image frames from D:/Data/movement/UCF11_updated_mpg/train\\diving\\v_diving_02\\4\n",
      "Reading image frames from D:/Data/movement/UCF11_updated_mpg/train\\diving\\v_diving_02\\5\n",
      "Reading image frames from D:/Data/movement/UCF11_updated_mpg/train\\diving\\v_diving_02\\6\n",
      "Reading image frames from D:/Data/movement/UCF11_updated_mpg/train\\diving\\v_diving_02\\7\n",
      "Reading image frames from D:/Data/movement/UCF11_updated_mpg/train\\diving\\v_diving_03\\1\n",
      "Reading image frames from D:/Data/movement/UCF11_updated_mpg/train\\diving\\v_diving_03\\2\n",
      "Reading image frames from D:/Data/movement/UCF11_updated_mpg/train\\diving\\v_diving_03\\3\n",
      "Reading image frames from D:/Data/movement/UCF11_updated_mpg/train\\diving\\v_diving_03\\4\n",
      "Reading image frames from D:/Data/movement/UCF11_updated_mpg/train\\diving\\v_diving_03\\5\n",
      "Reading image frames from D:/Data/movement/UCF11_updated_mpg/train\\diving\\v_diving_03\\6\n",
      "Reading image frames from D:/Data/movement/UCF11_updated_mpg/train\\diving\\v_diving_03\\7\n",
      "Reading image frames from D:/Data/movement/UCF11_updated_mpg/train\\diving\\v_diving_03\\8\n",
      "Reading image frames from D:/Data/movement/UCF11_updated_mpg/train\\diving\\v_diving_04\\1\n",
      "Reading image frames from D:/Data/movement/UCF11_updated_mpg/train\\diving\\v_diving_04\\2\n",
      "Reading image frames from D:/Data/movement/UCF11_updated_mpg/train\\diving\\v_diving_04\\3\n",
      "Reading image frames from D:/Data/movement/UCF11_updated_mpg/train\\diving\\v_diving_04\\4\n",
      "Reading image frames from D:/Data/movement/UCF11_updated_mpg/train\\diving\\v_diving_04\\5\n",
      "Reading image frames from D:/Data/movement/UCF11_updated_mpg/train\\diving\\v_diving_04\\6\n"
     ]
    },
    {
     "name": "stdout",
     "output_type": "stream",
     "text": [
      "Reading image frames from D:/Data/movement/UCF11_updated_mpg/train\\diving\\v_diving_04\\7\n",
      "Reading image frames from D:/Data/movement/UCF11_updated_mpg/train\\diving\\v_diving_05\\1\n",
      "golf_swing has 26 subfolders\n",
      "Reading image frames from D:/Data/movement/UCF11_updated_mpg/train\\golf_swing\\v_golf_01\\1\n",
      "Reading image frames from D:/Data/movement/UCF11_updated_mpg/train\\golf_swing\\v_golf_01\\2\n",
      "Reading image frames from D:/Data/movement/UCF11_updated_mpg/train\\golf_swing\\v_golf_01\\3\n",
      "Reading image frames from D:/Data/movement/UCF11_updated_mpg/train\\golf_swing\\v_golf_01\\4\n",
      "Reading image frames from D:/Data/movement/UCF11_updated_mpg/train\\golf_swing\\v_golf_01\\5\n",
      "Reading image frames from D:/Data/movement/UCF11_updated_mpg/train\\golf_swing\\v_golf_01\\6\n",
      "Reading image frames from D:/Data/movement/UCF11_updated_mpg/train\\golf_swing\\v_golf_02\\1\n",
      "Reading image frames from D:/Data/movement/UCF11_updated_mpg/train\\golf_swing\\v_golf_02\\2\n",
      "Reading image frames from D:/Data/movement/UCF11_updated_mpg/train\\golf_swing\\v_golf_02\\3\n",
      "Reading image frames from D:/Data/movement/UCF11_updated_mpg/train\\golf_swing\\v_golf_02\\4\n",
      "Reading image frames from D:/Data/movement/UCF11_updated_mpg/train\\golf_swing\\v_golf_03\\1\n",
      "Reading image frames from D:/Data/movement/UCF11_updated_mpg/train\\golf_swing\\v_golf_03\\2\n",
      "Reading image frames from D:/Data/movement/UCF11_updated_mpg/train\\golf_swing\\v_golf_03\\3\n",
      "Reading image frames from D:/Data/movement/UCF11_updated_mpg/train\\golf_swing\\v_golf_03\\4\n",
      "Reading image frames from D:/Data/movement/UCF11_updated_mpg/train\\golf_swing\\v_golf_03\\5\n",
      "Reading image frames from D:/Data/movement/UCF11_updated_mpg/train\\golf_swing\\v_golf_03\\6\n",
      "Reading image frames from D:/Data/movement/UCF11_updated_mpg/train\\golf_swing\\v_golf_03\\7\n",
      "Reading image frames from D:/Data/movement/UCF11_updated_mpg/train\\golf_swing\\v_golf_04\\1\n",
      "Reading image frames from D:/Data/movement/UCF11_updated_mpg/train\\golf_swing\\v_golf_04\\2\n",
      "Reading image frames from D:/Data/movement/UCF11_updated_mpg/train\\golf_swing\\v_golf_04\\3\n",
      "Reading image frames from D:/Data/movement/UCF11_updated_mpg/train\\golf_swing\\v_golf_04\\4\n",
      "Reading image frames from D:/Data/movement/UCF11_updated_mpg/train\\golf_swing\\v_golf_04\\5\n",
      "Reading image frames from D:/Data/movement/UCF11_updated_mpg/train\\golf_swing\\v_golf_04\\6\n",
      "Reading image frames from D:/Data/movement/UCF11_updated_mpg/train\\golf_swing\\v_golf_05\\1\n",
      "Reading image frames from D:/Data/movement/UCF11_updated_mpg/train\\golf_swing\\v_golf_05\\2\n",
      "Reading image frames from D:/Data/movement/UCF11_updated_mpg/train\\golf_swing\\v_golf_05\\3\n",
      "Reading image frames from D:/Data/movement/UCF11_updated_mpg/train\\golf_swing\\v_golf_05\\4\n",
      "Reading image frames from D:/Data/movement/UCF11_updated_mpg/train\\golf_swing\\v_golf_05\\5\n",
      "Reading image frames from D:/Data/movement/UCF11_updated_mpg/train\\golf_swing\\v_golf_05\\6\n",
      "Reading image frames from D:/Data/movement/UCF11_updated_mpg/train\\golf_swing\\v_golf_05\\7\n",
      "horse_riding has 25 subfolders\n",
      "Reading image frames from D:/Data/movement/UCF11_updated_mpg/train\\horse_riding\\v_riding_01\\1\n",
      "Reading image frames from D:/Data/movement/UCF11_updated_mpg/train\\horse_riding\\v_riding_01\\2\n",
      "Reading image frames from D:/Data/movement/UCF11_updated_mpg/train\\horse_riding\\v_riding_01\\3\n",
      "Reading image frames from D:/Data/movement/UCF11_updated_mpg/train\\horse_riding\\v_riding_01\\4\n",
      "Reading image frames from D:/Data/movement/UCF11_updated_mpg/train\\horse_riding\\v_riding_01\\5\n",
      "Reading image frames from D:/Data/movement/UCF11_updated_mpg/train\\horse_riding\\v_riding_01\\6\n",
      "Reading image frames from D:/Data/movement/UCF11_updated_mpg/train\\horse_riding\\v_riding_01\\7\n",
      "Reading image frames from D:/Data/movement/UCF11_updated_mpg/train\\horse_riding\\v_riding_01\\8\n",
      "Reading image frames from D:/Data/movement/UCF11_updated_mpg/train\\horse_riding\\v_riding_01\\9\n",
      "Reading image frames from D:/Data/movement/UCF11_updated_mpg/train\\horse_riding\\v_riding_02\\1\n",
      "Reading image frames from D:/Data/movement/UCF11_updated_mpg/train\\horse_riding\\v_riding_02\\2\n",
      "Reading image frames from D:/Data/movement/UCF11_updated_mpg/train\\horse_riding\\v_riding_02\\3\n",
      "Reading image frames from D:/Data/movement/UCF11_updated_mpg/train\\horse_riding\\v_riding_02\\4\n",
      "Reading image frames from D:/Data/movement/UCF11_updated_mpg/train\\horse_riding\\v_riding_02\\5\n",
      "Reading image frames from D:/Data/movement/UCF11_updated_mpg/train\\horse_riding\\v_riding_02\\6\n",
      "Reading image frames from D:/Data/movement/UCF11_updated_mpg/train\\horse_riding\\v_riding_02\\7\n",
      "Reading image frames from D:/Data/movement/UCF11_updated_mpg/train\\horse_riding\\v_riding_02\\8\n",
      "Reading image frames from D:/Data/movement/UCF11_updated_mpg/train\\horse_riding\\v_riding_02\\9\n",
      "Reading image frames from D:/Data/movement/UCF11_updated_mpg/train\\horse_riding\\v_riding_03\\1\n",
      "Reading image frames from D:/Data/movement/UCF11_updated_mpg/train\\horse_riding\\v_riding_03\\2\n",
      "Reading image frames from D:/Data/movement/UCF11_updated_mpg/train\\horse_riding\\v_riding_03\\3\n",
      "Reading image frames from D:/Data/movement/UCF11_updated_mpg/train\\horse_riding\\v_riding_03\\4\n",
      "Reading image frames from D:/Data/movement/UCF11_updated_mpg/train\\horse_riding\\v_riding_03\\5\n",
      "Reading image frames from D:/Data/movement/UCF11_updated_mpg/train\\horse_riding\\v_riding_03\\6\n",
      "Reading image frames from D:/Data/movement/UCF11_updated_mpg/train\\horse_riding\\v_riding_03\\7\n",
      "Reading image frames from D:/Data/movement/UCF11_updated_mpg/train\\horse_riding\\v_riding_03\\8\n",
      "Reading image frames from D:/Data/movement/UCF11_updated_mpg/train\\horse_riding\\v_riding_04\\1\n",
      "Reading image frames from D:/Data/movement/UCF11_updated_mpg/train\\horse_riding\\v_riding_04\\2\n",
      "Reading image frames from D:/Data/movement/UCF11_updated_mpg/train\\horse_riding\\v_riding_04\\3\n",
      "Reading image frames from D:/Data/movement/UCF11_updated_mpg/train\\horse_riding\\v_riding_04\\4\n",
      "soccer_juggling has 25 subfolders\n",
      "Reading image frames from D:/Data/movement/UCF11_updated_mpg/train\\soccer_juggling\\v_juggle_01\\1\n",
      "Reading image frames from D:/Data/movement/UCF11_updated_mpg/train\\soccer_juggling\\v_juggle_01\\2\n",
      "Reading image frames from D:/Data/movement/UCF11_updated_mpg/train\\soccer_juggling\\v_juggle_01\\3\n",
      "Reading image frames from D:/Data/movement/UCF11_updated_mpg/train\\soccer_juggling\\v_juggle_01\\4\n",
      "Reading image frames from D:/Data/movement/UCF11_updated_mpg/train\\soccer_juggling\\v_juggle_01\\5\n",
      "Reading image frames from D:/Data/movement/UCF11_updated_mpg/train\\soccer_juggling\\v_juggle_02\\1\n",
      "Reading image frames from D:/Data/movement/UCF11_updated_mpg/train\\soccer_juggling\\v_juggle_02\\2\n",
      "Reading image frames from D:/Data/movement/UCF11_updated_mpg/train\\soccer_juggling\\v_juggle_02\\3\n",
      "Reading image frames from D:/Data/movement/UCF11_updated_mpg/train\\soccer_juggling\\v_juggle_02\\4\n",
      "Reading image frames from D:/Data/movement/UCF11_updated_mpg/train\\soccer_juggling\\v_juggle_02\\5\n",
      "Reading image frames from D:/Data/movement/UCF11_updated_mpg/train\\soccer_juggling\\v_juggle_02\\6\n",
      "Reading image frames from D:/Data/movement/UCF11_updated_mpg/train\\soccer_juggling\\v_juggle_03\\1\n",
      "Reading image frames from D:/Data/movement/UCF11_updated_mpg/train\\soccer_juggling\\v_juggle_03\\2\n",
      "Reading image frames from D:/Data/movement/UCF11_updated_mpg/train\\soccer_juggling\\v_juggle_03\\3\n",
      "Reading image frames from D:/Data/movement/UCF11_updated_mpg/train\\soccer_juggling\\v_juggle_03\\4\n",
      "Reading image frames from D:/Data/movement/UCF11_updated_mpg/train\\soccer_juggling\\v_juggle_04\\1\n",
      "Reading image frames from D:/Data/movement/UCF11_updated_mpg/train\\soccer_juggling\\v_juggle_04\\2\n",
      "Reading image frames from D:/Data/movement/UCF11_updated_mpg/train\\soccer_juggling\\v_juggle_04\\3\n",
      "Reading image frames from D:/Data/movement/UCF11_updated_mpg/train\\soccer_juggling\\v_juggle_04\\4\n",
      "Reading image frames from D:/Data/movement/UCF11_updated_mpg/train\\soccer_juggling\\v_juggle_04\\5\n",
      "Reading image frames from D:/Data/movement/UCF11_updated_mpg/train\\soccer_juggling\\v_juggle_04\\6\n",
      "Reading image frames from D:/Data/movement/UCF11_updated_mpg/train\\soccer_juggling\\v_juggle_05\\1\n",
      "Reading image frames from D:/Data/movement/UCF11_updated_mpg/train\\soccer_juggling\\v_juggle_05\\2\n",
      "Reading image frames from D:/Data/movement/UCF11_updated_mpg/train\\soccer_juggling\\v_juggle_05\\3\n",
      "Reading image frames from D:/Data/movement/UCF11_updated_mpg/train\\soccer_juggling\\v_juggle_05\\4\n"
     ]
    },
    {
     "name": "stdout",
     "output_type": "stream",
     "text": [
      "Reading image frames from D:/Data/movement/UCF11_updated_mpg/train\\soccer_juggling\\v_juggle_05\\5\n",
      "Reading image frames from D:/Data/movement/UCF11_updated_mpg/train\\soccer_juggling\\v_juggle_05\\6\n",
      "Reading image frames from D:/Data/movement/UCF11_updated_mpg/train\\soccer_juggling\\v_juggle_06\\1\n",
      "Reading image frames from D:/Data/movement/UCF11_updated_mpg/train\\soccer_juggling\\v_juggle_06\\2\n",
      "Reading image frames from D:/Data/movement/UCF11_updated_mpg/train\\soccer_juggling\\v_juggle_06\\3\n",
      "swing has 25 subfolders\n",
      "Reading image frames from D:/Data/movement/UCF11_updated_mpg/train\\swing\\v_swing_01\\1\n",
      "Reading image frames from D:/Data/movement/UCF11_updated_mpg/train\\swing\\v_swing_01\\2\n",
      "Reading image frames from D:/Data/movement/UCF11_updated_mpg/train\\swing\\v_swing_01\\3\n",
      "Reading image frames from D:/Data/movement/UCF11_updated_mpg/train\\swing\\v_swing_01\\4\n",
      "Reading image frames from D:/Data/movement/UCF11_updated_mpg/train\\swing\\v_swing_01\\5\n",
      "Reading image frames from D:/Data/movement/UCF11_updated_mpg/train\\swing\\v_swing_02\\1\n",
      "Reading image frames from D:/Data/movement/UCF11_updated_mpg/train\\swing\\v_swing_02\\2\n",
      "Reading image frames from D:/Data/movement/UCF11_updated_mpg/train\\swing\\v_swing_02\\3\n",
      "Reading image frames from D:/Data/movement/UCF11_updated_mpg/train\\swing\\v_swing_02\\4\n",
      "Reading image frames from D:/Data/movement/UCF11_updated_mpg/train\\swing\\v_swing_02\\5\n",
      "Reading image frames from D:/Data/movement/UCF11_updated_mpg/train\\swing\\v_swing_03\\1\n",
      "Reading image frames from D:/Data/movement/UCF11_updated_mpg/train\\swing\\v_swing_03\\2\n",
      "Reading image frames from D:/Data/movement/UCF11_updated_mpg/train\\swing\\v_swing_03\\3\n",
      "Reading image frames from D:/Data/movement/UCF11_updated_mpg/train\\swing\\v_swing_03\\4\n",
      "Reading image frames from D:/Data/movement/UCF11_updated_mpg/train\\swing\\v_swing_04\\1\n",
      "Reading image frames from D:/Data/movement/UCF11_updated_mpg/train\\swing\\v_swing_04\\2\n",
      "Reading image frames from D:/Data/movement/UCF11_updated_mpg/train\\swing\\v_swing_04\\3\n",
      "Reading image frames from D:/Data/movement/UCF11_updated_mpg/train\\swing\\v_swing_04\\4\n",
      "Reading image frames from D:/Data/movement/UCF11_updated_mpg/train\\swing\\v_swing_04\\5\n",
      "Reading image frames from D:/Data/movement/UCF11_updated_mpg/train\\swing\\v_swing_04\\6\n",
      "Reading image frames from D:/Data/movement/UCF11_updated_mpg/train\\swing\\v_swing_04\\7\n",
      "Reading image frames from D:/Data/movement/UCF11_updated_mpg/train\\swing\\v_swing_04\\8\n",
      "Reading image frames from D:/Data/movement/UCF11_updated_mpg/train\\swing\\v_swing_05\\1\n",
      "Reading image frames from D:/Data/movement/UCF11_updated_mpg/train\\swing\\v_swing_05\\2\n",
      "Reading image frames from D:/Data/movement/UCF11_updated_mpg/train\\swing\\v_swing_05\\3\n",
      "Reading image frames from D:/Data/movement/UCF11_updated_mpg/train\\swing\\v_swing_05\\4\n",
      "Reading image frames from D:/Data/movement/UCF11_updated_mpg/train\\swing\\v_swing_05\\5\n",
      "Reading image frames from D:/Data/movement/UCF11_updated_mpg/train\\swing\\v_swing_05\\6\n",
      "Reading image frames from D:/Data/movement/UCF11_updated_mpg/train\\swing\\v_swing_05\\7\n",
      "Reading image frames from D:/Data/movement/UCF11_updated_mpg/train\\swing\\v_swing_05\\8\n",
      "tennis_swing has 25 subfolders\n",
      "Reading image frames from D:/Data/movement/UCF11_updated_mpg/train\\tennis_swing\\v_tennis_01\\1\n",
      "Reading image frames from D:/Data/movement/UCF11_updated_mpg/train\\tennis_swing\\v_tennis_01\\2\n",
      "Reading image frames from D:/Data/movement/UCF11_updated_mpg/train\\tennis_swing\\v_tennis_01\\3\n",
      "Reading image frames from D:/Data/movement/UCF11_updated_mpg/train\\tennis_swing\\v_tennis_01\\4\n",
      "Reading image frames from D:/Data/movement/UCF11_updated_mpg/train\\tennis_swing\\v_tennis_01\\5\n",
      "Reading image frames from D:/Data/movement/UCF11_updated_mpg/train\\tennis_swing\\v_tennis_01\\6\n",
      "Reading image frames from D:/Data/movement/UCF11_updated_mpg/train\\tennis_swing\\v_tennis_01\\7\n",
      "Reading image frames from D:/Data/movement/UCF11_updated_mpg/train\\tennis_swing\\v_tennis_02\\1\n",
      "Reading image frames from D:/Data/movement/UCF11_updated_mpg/train\\tennis_swing\\v_tennis_02\\2\n",
      "Reading image frames from D:/Data/movement/UCF11_updated_mpg/train\\tennis_swing\\v_tennis_02\\3\n",
      "Reading image frames from D:/Data/movement/UCF11_updated_mpg/train\\tennis_swing\\v_tennis_02\\4\n",
      "Reading image frames from D:/Data/movement/UCF11_updated_mpg/train\\tennis_swing\\v_tennis_02\\5\n",
      "Reading image frames from D:/Data/movement/UCF11_updated_mpg/train\\tennis_swing\\v_tennis_02\\6\n",
      "Reading image frames from D:/Data/movement/UCF11_updated_mpg/train\\tennis_swing\\v_tennis_02\\7\n",
      "Reading image frames from D:/Data/movement/UCF11_updated_mpg/train\\tennis_swing\\v_tennis_03\\1\n",
      "Reading image frames from D:/Data/movement/UCF11_updated_mpg/train\\tennis_swing\\v_tennis_03\\2\n",
      "Reading image frames from D:/Data/movement/UCF11_updated_mpg/train\\tennis_swing\\v_tennis_03\\3\n",
      "Reading image frames from D:/Data/movement/UCF11_updated_mpg/train\\tennis_swing\\v_tennis_03\\4\n",
      "Reading image frames from D:/Data/movement/UCF11_updated_mpg/train\\tennis_swing\\v_tennis_03\\5\n",
      "Reading image frames from D:/Data/movement/UCF11_updated_mpg/train\\tennis_swing\\v_tennis_03\\6\n",
      "Reading image frames from D:/Data/movement/UCF11_updated_mpg/train\\tennis_swing\\v_tennis_03\\7\n",
      "Reading image frames from D:/Data/movement/UCF11_updated_mpg/train\\tennis_swing\\v_tennis_04\\1\n",
      "Reading image frames from D:/Data/movement/UCF11_updated_mpg/train\\tennis_swing\\v_tennis_04\\2\n",
      "Reading image frames from D:/Data/movement/UCF11_updated_mpg/train\\tennis_swing\\v_tennis_04\\3\n",
      "Reading image frames from D:/Data/movement/UCF11_updated_mpg/train\\tennis_swing\\v_tennis_04\\4\n",
      "Reading image frames from D:/Data/movement/UCF11_updated_mpg/train\\tennis_swing\\v_tennis_04\\5\n",
      "Reading image frames from D:/Data/movement/UCF11_updated_mpg/train\\tennis_swing\\v_tennis_04\\6\n",
      "Reading image frames from D:/Data/movement/UCF11_updated_mpg/train\\tennis_swing\\v_tennis_04\\7\n",
      "Reading image frames from D:/Data/movement/UCF11_updated_mpg/train\\tennis_swing\\v_tennis_05\\1\n",
      "Reading image frames from D:/Data/movement/UCF11_updated_mpg/train\\tennis_swing\\v_tennis_05\\2\n",
      "trampoline_jumping has 25 subfolders\n",
      "Reading image frames from D:/Data/movement/UCF11_updated_mpg/train\\trampoline_jumping\\v_jumping_01\\1\n",
      "Reading image frames from D:/Data/movement/UCF11_updated_mpg/train\\trampoline_jumping\\v_jumping_01\\2\n",
      "Reading image frames from D:/Data/movement/UCF11_updated_mpg/train\\trampoline_jumping\\v_jumping_01\\3\n",
      "Reading image frames from D:/Data/movement/UCF11_updated_mpg/train\\trampoline_jumping\\v_jumping_01\\4\n",
      "Reading image frames from D:/Data/movement/UCF11_updated_mpg/train\\trampoline_jumping\\v_jumping_02\\1\n",
      "Reading image frames from D:/Data/movement/UCF11_updated_mpg/train\\trampoline_jumping\\v_jumping_02\\2\n",
      "Reading image frames from D:/Data/movement/UCF11_updated_mpg/train\\trampoline_jumping\\v_jumping_02\\3\n",
      "Reading image frames from D:/Data/movement/UCF11_updated_mpg/train\\trampoline_jumping\\v_jumping_02\\4\n",
      "Reading image frames from D:/Data/movement/UCF11_updated_mpg/train\\trampoline_jumping\\v_jumping_02\\5\n",
      "Reading image frames from D:/Data/movement/UCF11_updated_mpg/train\\trampoline_jumping\\v_jumping_02\\6\n",
      "Reading image frames from D:/Data/movement/UCF11_updated_mpg/train\\trampoline_jumping\\v_jumping_03\\1\n",
      "Reading image frames from D:/Data/movement/UCF11_updated_mpg/train\\trampoline_jumping\\v_jumping_03\\2\n",
      "Reading image frames from D:/Data/movement/UCF11_updated_mpg/train\\trampoline_jumping\\v_jumping_03\\3\n",
      "Reading image frames from D:/Data/movement/UCF11_updated_mpg/train\\trampoline_jumping\\v_jumping_03\\4\n",
      "Reading image frames from D:/Data/movement/UCF11_updated_mpg/train\\trampoline_jumping\\v_jumping_04\\1\n",
      "Reading image frames from D:/Data/movement/UCF11_updated_mpg/train\\trampoline_jumping\\v_jumping_04\\2\n",
      "Reading image frames from D:/Data/movement/UCF11_updated_mpg/train\\trampoline_jumping\\v_jumping_04\\3\n",
      "Reading image frames from D:/Data/movement/UCF11_updated_mpg/train\\trampoline_jumping\\v_jumping_04\\4\n",
      "Reading image frames from D:/Data/movement/UCF11_updated_mpg/train\\trampoline_jumping\\v_jumping_04\\5\n",
      "Reading image frames from D:/Data/movement/UCF11_updated_mpg/train\\trampoline_jumping\\v_jumping_05\\1\n",
      "Reading image frames from D:/Data/movement/UCF11_updated_mpg/train\\trampoline_jumping\\v_jumping_05\\2\n",
      "Reading image frames from D:/Data/movement/UCF11_updated_mpg/train\\trampoline_jumping\\v_jumping_05\\3\n"
     ]
    },
    {
     "name": "stdout",
     "output_type": "stream",
     "text": [
      "Reading image frames from D:/Data/movement/UCF11_updated_mpg/train\\trampoline_jumping\\v_jumping_05\\4\n",
      "Reading image frames from D:/Data/movement/UCF11_updated_mpg/train\\trampoline_jumping\\v_jumping_06\\1\n",
      "Reading image frames from D:/Data/movement/UCF11_updated_mpg/train\\trampoline_jumping\\v_jumping_06\\2\n",
      "Reading image frames from D:/Data/movement/UCF11_updated_mpg/train\\trampoline_jumping\\v_jumping_06\\3\n",
      "Reading image frames from D:/Data/movement/UCF11_updated_mpg/train\\trampoline_jumping\\v_jumping_06\\4\n",
      "Reading image frames from D:/Data/movement/UCF11_updated_mpg/train\\trampoline_jumping\\v_jumping_07\\1\n",
      "Reading image frames from D:/Data/movement/UCF11_updated_mpg/train\\trampoline_jumping\\v_jumping_07\\2\n",
      "Reading image frames from D:/Data/movement/UCF11_updated_mpg/train\\trampoline_jumping\\v_jumping_07\\3\n",
      "volleyball_spiking has 25 subfolders\n",
      "Reading image frames from D:/Data/movement/UCF11_updated_mpg/train\\volleyball_spiking\\v_spiking_01\\1\n",
      "Reading image frames from D:/Data/movement/UCF11_updated_mpg/train\\volleyball_spiking\\v_spiking_01\\2\n",
      "Reading image frames from D:/Data/movement/UCF11_updated_mpg/train\\volleyball_spiking\\v_spiking_01\\3\n",
      "Reading image frames from D:/Data/movement/UCF11_updated_mpg/train\\volleyball_spiking\\v_spiking_01\\4\n",
      "Reading image frames from D:/Data/movement/UCF11_updated_mpg/train\\volleyball_spiking\\v_spiking_02\\1\n",
      "Reading image frames from D:/Data/movement/UCF11_updated_mpg/train\\volleyball_spiking\\v_spiking_02\\2\n",
      "Reading image frames from D:/Data/movement/UCF11_updated_mpg/train\\volleyball_spiking\\v_spiking_02\\3\n",
      "Reading image frames from D:/Data/movement/UCF11_updated_mpg/train\\volleyball_spiking\\v_spiking_02\\4\n",
      "Reading image frames from D:/Data/movement/UCF11_updated_mpg/train\\volleyball_spiking\\v_spiking_03\\1\n",
      "Reading image frames from D:/Data/movement/UCF11_updated_mpg/train\\volleyball_spiking\\v_spiking_03\\2\n",
      "Reading image frames from D:/Data/movement/UCF11_updated_mpg/train\\volleyball_spiking\\v_spiking_03\\3\n",
      "Reading image frames from D:/Data/movement/UCF11_updated_mpg/train\\volleyball_spiking\\v_spiking_03\\4\n",
      "Reading image frames from D:/Data/movement/UCF11_updated_mpg/train\\volleyball_spiking\\v_spiking_04\\1\n",
      "Reading image frames from D:/Data/movement/UCF11_updated_mpg/train\\volleyball_spiking\\v_spiking_04\\2\n",
      "Reading image frames from D:/Data/movement/UCF11_updated_mpg/train\\volleyball_spiking\\v_spiking_04\\3\n",
      "Reading image frames from D:/Data/movement/UCF11_updated_mpg/train\\volleyball_spiking\\v_spiking_04\\4\n",
      "Reading image frames from D:/Data/movement/UCF11_updated_mpg/train\\volleyball_spiking\\v_spiking_04\\5\n",
      "Reading image frames from D:/Data/movement/UCF11_updated_mpg/train\\volleyball_spiking\\v_spiking_04\\6\n",
      "Reading image frames from D:/Data/movement/UCF11_updated_mpg/train\\volleyball_spiking\\v_spiking_04\\7\n",
      "Reading image frames from D:/Data/movement/UCF11_updated_mpg/train\\volleyball_spiking\\v_spiking_05\\1\n",
      "Reading image frames from D:/Data/movement/UCF11_updated_mpg/train\\volleyball_spiking\\v_spiking_05\\2\n",
      "Reading image frames from D:/Data/movement/UCF11_updated_mpg/train\\volleyball_spiking\\v_spiking_05\\3\n",
      "Reading image frames from D:/Data/movement/UCF11_updated_mpg/train\\volleyball_spiking\\v_spiking_05\\4\n",
      "Reading image frames from D:/Data/movement/UCF11_updated_mpg/train\\volleyball_spiking\\v_spiking_05\\5\n",
      "Reading image frames from D:/Data/movement/UCF11_updated_mpg/train\\volleyball_spiking\\v_spiking_06\\1\n",
      "Reading image frames from D:/Data/movement/UCF11_updated_mpg/train\\volleyball_spiking\\v_spiking_06\\2\n",
      "Reading image frames from D:/Data/movement/UCF11_updated_mpg/train\\volleyball_spiking\\v_spiking_06\\3\n",
      "Reading image frames from D:/Data/movement/UCF11_updated_mpg/train\\volleyball_spiking\\v_spiking_06\\4\n",
      "Reading image frames from D:/Data/movement/UCF11_updated_mpg/train\\volleyball_spiking\\v_spiking_07\\1\n",
      "Reading image frames from D:/Data/movement/UCF11_updated_mpg/train\\volleyball_spiking\\v_spiking_07\\2\n",
      "walking has 25 subfolders\n",
      "Reading image frames from D:/Data/movement/UCF11_updated_mpg/train\\walking\\v_walk_dog_01\\1\n",
      "Reading image frames from D:/Data/movement/UCF11_updated_mpg/train\\walking\\v_walk_dog_01\\2\n",
      "Reading image frames from D:/Data/movement/UCF11_updated_mpg/train\\walking\\v_walk_dog_01\\3\n",
      "Reading image frames from D:/Data/movement/UCF11_updated_mpg/train\\walking\\v_walk_dog_01\\4\n",
      "Reading image frames from D:/Data/movement/UCF11_updated_mpg/train\\walking\\v_walk_dog_02\\1\n",
      "Reading image frames from D:/Data/movement/UCF11_updated_mpg/train\\walking\\v_walk_dog_02\\2\n",
      "Reading image frames from D:/Data/movement/UCF11_updated_mpg/train\\walking\\v_walk_dog_02\\3\n",
      "Reading image frames from D:/Data/movement/UCF11_updated_mpg/train\\walking\\v_walk_dog_02\\4\n",
      "Reading image frames from D:/Data/movement/UCF11_updated_mpg/train\\walking\\v_walk_dog_02\\5\n",
      "Reading image frames from D:/Data/movement/UCF11_updated_mpg/train\\walking\\v_walk_dog_02\\6\n",
      "Reading image frames from D:/Data/movement/UCF11_updated_mpg/train\\walking\\v_walk_dog_03\\1\n",
      "Reading image frames from D:/Data/movement/UCF11_updated_mpg/train\\walking\\v_walk_dog_03\\2\n",
      "Reading image frames from D:/Data/movement/UCF11_updated_mpg/train\\walking\\v_walk_dog_03\\3\n",
      "Reading image frames from D:/Data/movement/UCF11_updated_mpg/train\\walking\\v_walk_dog_03\\4\n",
      "Reading image frames from D:/Data/movement/UCF11_updated_mpg/train\\walking\\v_walk_dog_03\\5\n",
      "Reading image frames from D:/Data/movement/UCF11_updated_mpg/train\\walking\\v_walk_dog_04\\1\n",
      "Reading image frames from D:/Data/movement/UCF11_updated_mpg/train\\walking\\v_walk_dog_04\\2\n",
      "Reading image frames from D:/Data/movement/UCF11_updated_mpg/train\\walking\\v_walk_dog_04\\3\n",
      "Reading image frames from D:/Data/movement/UCF11_updated_mpg/train\\walking\\v_walk_dog_04\\4\n",
      "Reading image frames from D:/Data/movement/UCF11_updated_mpg/train\\walking\\v_walk_dog_04\\5\n",
      "Reading image frames from D:/Data/movement/UCF11_updated_mpg/train\\walking\\v_walk_dog_05\\1\n",
      "Reading image frames from D:/Data/movement/UCF11_updated_mpg/train\\walking\\v_walk_dog_05\\2\n",
      "Reading image frames from D:/Data/movement/UCF11_updated_mpg/train\\walking\\v_walk_dog_05\\3\n",
      "Reading image frames from D:/Data/movement/UCF11_updated_mpg/train\\walking\\v_walk_dog_05\\4\n",
      "Reading image frames from D:/Data/movement/UCF11_updated_mpg/train\\walking\\v_walk_dog_05\\5\n",
      "Reading image frames from D:/Data/movement/UCF11_updated_mpg/train\\walking\\v_walk_dog_06\\1\n",
      "Reading image frames from D:/Data/movement/UCF11_updated_mpg/train\\walking\\v_walk_dog_06\\2\n",
      "Reading image frames from D:/Data/movement/UCF11_updated_mpg/train\\walking\\v_walk_dog_06\\3\n",
      "Reading image frames from D:/Data/movement/UCF11_updated_mpg/train\\walking\\v_walk_dog_06\\4\n",
      "Reading image frames from D:/Data/movement/UCF11_updated_mpg/train\\walking\\v_walk_dog_06\\5\n",
      "Loading UCF11 Dataset Completed.\n",
      "UCF_11 data shape (330, 512)\n",
      "UCF_11 data labels shape (330,)\n"
     ]
    }
   ],
   "source": [
    "# Load dataset. This will take some time for the first loading\n",
    "x, y = load_ucf_11_dataset()\n",
    "\n",
    "print(\"UCF_11 data shape\", x.shape)\n",
    "print(\"UCF_11 data labels shape\", y.shape)"
   ]
  },
  {
   "cell_type": "code",
   "execution_count": 41,
   "metadata": {},
   "outputs": [
    {
     "name": "stdout",
     "output_type": "stream",
     "text": [
      "Loading basic action dataset containing 7 classes: ['Clap', 'Flap_Arms', 'Left_Kick', 'Left_Punch', 'Right_Kick', 'Right_Punch', 'Wave']\n",
      "Clap contains 25 subfolders.\n",
      "Reading image frames from D:/Data/movement/basic_action/train\\Clap\\Clap_01\n",
      "Reading image frames from D:/Data/movement/basic_action/train\\Clap\\Clap_02\n",
      "Reading image frames from D:/Data/movement/basic_action/train\\Clap\\Clap_03\n",
      "Reading image frames from D:/Data/movement/basic_action/train\\Clap\\Clap_05\n",
      "Reading image frames from D:/Data/movement/basic_action/train\\Clap\\Clap_06\n",
      "Reading image frames from D:/Data/movement/basic_action/train\\Clap\\Clap_08\n",
      "Reading image frames from D:/Data/movement/basic_action/train\\Clap\\Clap_09\n",
      "Reading image frames from D:/Data/movement/basic_action/train\\Clap\\Clap_10\n",
      "Reading image frames from D:/Data/movement/basic_action/train\\Clap\\Clap_12\n",
      "Reading image frames from D:/Data/movement/basic_action/train\\Clap\\Clap_13\n",
      "Reading image frames from D:/Data/movement/basic_action/train\\Clap\\Clap_14\n",
      "Reading image frames from D:/Data/movement/basic_action/train\\Clap\\Clap_15\n",
      "Reading image frames from D:/Data/movement/basic_action/train\\Clap\\Clap_17\n",
      "Reading image frames from D:/Data/movement/basic_action/train\\Clap\\Clap_18\n",
      "Reading image frames from D:/Data/movement/basic_action/train\\Clap\\Clap_19\n",
      "Reading image frames from D:/Data/movement/basic_action/train\\Clap\\Clap_20\n",
      "Reading image frames from D:/Data/movement/basic_action/train\\Clap\\Clap_21\n",
      "Reading image frames from D:/Data/movement/basic_action/train\\Clap\\Clap_22\n",
      "Reading image frames from D:/Data/movement/basic_action/train\\Clap\\Clap_23\n",
      "Reading image frames from D:/Data/movement/basic_action/train\\Clap\\Clap_24\n",
      "Reading image frames from D:/Data/movement/basic_action/train\\Clap\\Clap_26\n",
      "Reading image frames from D:/Data/movement/basic_action/train\\Clap\\Clap_27\n",
      "Reading image frames from D:/Data/movement/basic_action/train\\Clap\\Clap_28\n",
      "Reading image frames from D:/Data/movement/basic_action/train\\Clap\\Clap_29\n",
      "Reading image frames from D:/Data/movement/basic_action/train\\Clap\\Clap_30\n",
      "Flap_Arms contains 25 subfolders.\n",
      "Reading image frames from D:/Data/movement/basic_action/train\\Flap_Arms\\Flap_Arms_01\n",
      "Reading image frames from D:/Data/movement/basic_action/train\\Flap_Arms\\Flap_Arms_02\n",
      "Reading image frames from D:/Data/movement/basic_action/train\\Flap_Arms\\Flap_Arms_03\n",
      "Reading image frames from D:/Data/movement/basic_action/train\\Flap_Arms\\Flap_Arms_04\n",
      "Reading image frames from D:/Data/movement/basic_action/train\\Flap_Arms\\Flap_Arms_08\n",
      "Reading image frames from D:/Data/movement/basic_action/train\\Flap_Arms\\Flap_Arms_09\n",
      "Reading image frames from D:/Data/movement/basic_action/train\\Flap_Arms\\Flap_Arms_10\n",
      "Reading image frames from D:/Data/movement/basic_action/train\\Flap_Arms\\Flap_Arms_11\n",
      "Reading image frames from D:/Data/movement/basic_action/train\\Flap_Arms\\Flap_Arms_12\n",
      "Reading image frames from D:/Data/movement/basic_action/train\\Flap_Arms\\Flap_Arms_13\n",
      "Reading image frames from D:/Data/movement/basic_action/train\\Flap_Arms\\Flap_Arms_14\n",
      "Reading image frames from D:/Data/movement/basic_action/train\\Flap_Arms\\Flap_Arms_15\n",
      "Reading image frames from D:/Data/movement/basic_action/train\\Flap_Arms\\Flap_Arms_17\n",
      "Reading image frames from D:/Data/movement/basic_action/train\\Flap_Arms\\Flap_Arms_18\n",
      "Reading image frames from D:/Data/movement/basic_action/train\\Flap_Arms\\Flap_Arms_19\n",
      "Reading image frames from D:/Data/movement/basic_action/train\\Flap_Arms\\Flap_Arms_20\n",
      "Reading image frames from D:/Data/movement/basic_action/train\\Flap_Arms\\Flap_Arms_22\n",
      "Reading image frames from D:/Data/movement/basic_action/train\\Flap_Arms\\Flap_Arms_23\n",
      "Reading image frames from D:/Data/movement/basic_action/train\\Flap_Arms\\Flap_Arms_24\n",
      "Reading image frames from D:/Data/movement/basic_action/train\\Flap_Arms\\Flap_Arms_25\n",
      "Reading image frames from D:/Data/movement/basic_action/train\\Flap_Arms\\Flap_Arms_26\n",
      "Reading image frames from D:/Data/movement/basic_action/train\\Flap_Arms\\Flap_Arms_27\n",
      "Reading image frames from D:/Data/movement/basic_action/train\\Flap_Arms\\Flap_Arms_28\n",
      "Reading image frames from D:/Data/movement/basic_action/train\\Flap_Arms\\Flap_Arms_29\n",
      "Reading image frames from D:/Data/movement/basic_action/train\\Flap_Arms\\Flap_Arms_30\n",
      "Left_Kick contains 26 subfolders.\n",
      "Reading image frames from D:/Data/movement/basic_action/train\\Left_Kick\\Left_Kick_01\n",
      "Reading image frames from D:/Data/movement/basic_action/train\\Left_Kick\\Left_Kick_02\n",
      "Reading image frames from D:/Data/movement/basic_action/train\\Left_Kick\\Left_Kick_03\n",
      "Reading image frames from D:/Data/movement/basic_action/train\\Left_Kick\\Left_Kick_04\n",
      "Reading image frames from D:/Data/movement/basic_action/train\\Left_Kick\\Left_Kick_05\n",
      "Reading image frames from D:/Data/movement/basic_action/train\\Left_Kick\\Left_Kick_06\n",
      "Reading image frames from D:/Data/movement/basic_action/train\\Left_Kick\\Left_Kick_08\n",
      "Reading image frames from D:/Data/movement/basic_action/train\\Left_Kick\\Left_Kick_09\n",
      "Reading image frames from D:/Data/movement/basic_action/train\\Left_Kick\\Left_Kick_10\n",
      "Reading image frames from D:/Data/movement/basic_action/train\\Left_Kick\\Left_Kick_11\n",
      "Reading image frames from D:/Data/movement/basic_action/train\\Left_Kick\\Left_Kick_12\n",
      "Reading image frames from D:/Data/movement/basic_action/train\\Left_Kick\\Left_Kick_13\n",
      "Reading image frames from D:/Data/movement/basic_action/train\\Left_Kick\\Left_Kick_14\n",
      "Reading image frames from D:/Data/movement/basic_action/train\\Left_Kick\\Left_Kick_15\n",
      "Reading image frames from D:/Data/movement/basic_action/train\\Left_Kick\\Left_Kick_16\n",
      "Reading image frames from D:/Data/movement/basic_action/train\\Left_Kick\\Left_Kick_17\n",
      "Reading image frames from D:/Data/movement/basic_action/train\\Left_Kick\\Left_Kick_18\n",
      "Reading image frames from D:/Data/movement/basic_action/train\\Left_Kick\\Left_Kick_19\n",
      "Reading image frames from D:/Data/movement/basic_action/train\\Left_Kick\\Left_Kick_21\n",
      "Reading image frames from D:/Data/movement/basic_action/train\\Left_Kick\\Left_Kick_23\n",
      "Reading image frames from D:/Data/movement/basic_action/train\\Left_Kick\\Left_Kick_24\n",
      "Reading image frames from D:/Data/movement/basic_action/train\\Left_Kick\\Left_Kick_25\n",
      "Reading image frames from D:/Data/movement/basic_action/train\\Left_Kick\\Left_Kick_27\n",
      "Reading image frames from D:/Data/movement/basic_action/train\\Left_Kick\\Left_Kick_28\n",
      "Reading image frames from D:/Data/movement/basic_action/train\\Left_Kick\\Left_Kick_29\n",
      "Reading image frames from D:/Data/movement/basic_action/train\\Left_Kick\\Left_Kick_30\n",
      "Left_Punch contains 30 subfolders.\n",
      "Reading image frames from D:/Data/movement/basic_action/train\\Left_Punch\\Left_Punch_01\n",
      "Reading image frames from D:/Data/movement/basic_action/train\\Left_Punch\\Left_Punch_02\n",
      "Reading image frames from D:/Data/movement/basic_action/train\\Left_Punch\\Left_Punch_03\n",
      "Reading image frames from D:/Data/movement/basic_action/train\\Left_Punch\\Left_Punch_04\n",
      "Reading image frames from D:/Data/movement/basic_action/train\\Left_Punch\\Left_Punch_05\n",
      "Reading image frames from D:/Data/movement/basic_action/train\\Left_Punch\\Left_Punch_06\n",
      "Reading image frames from D:/Data/movement/basic_action/train\\Left_Punch\\Left_Punch_07\n",
      "Reading image frames from D:/Data/movement/basic_action/train\\Left_Punch\\Left_Punch_08\n",
      "Reading image frames from D:/Data/movement/basic_action/train\\Left_Punch\\Left_Punch_09\n",
      "Reading image frames from D:/Data/movement/basic_action/train\\Left_Punch\\Left_Punch_10\n",
      "Reading image frames from D:/Data/movement/basic_action/train\\Left_Punch\\Left_Punch_11\n",
      "Reading image frames from D:/Data/movement/basic_action/train\\Left_Punch\\Left_Punch_12\n",
      "Reading image frames from D:/Data/movement/basic_action/train\\Left_Punch\\Left_Punch_13\n",
      "Reading image frames from D:/Data/movement/basic_action/train\\Left_Punch\\Left_Punch_14\n",
      "Reading image frames from D:/Data/movement/basic_action/train\\Left_Punch\\Left_Punch_15\n",
      "Reading image frames from D:/Data/movement/basic_action/train\\Left_Punch\\Left_Punch_16\n",
      "Reading image frames from D:/Data/movement/basic_action/train\\Left_Punch\\Left_Punch_17\n",
      "Reading image frames from D:/Data/movement/basic_action/train\\Left_Punch\\Left_Punch_18\n",
      "Reading image frames from D:/Data/movement/basic_action/train\\Left_Punch\\Left_Punch_19\n",
      "Reading image frames from D:/Data/movement/basic_action/train\\Left_Punch\\Left_Punch_20\n"
     ]
    },
    {
     "name": "stdout",
     "output_type": "stream",
     "text": [
      "Reading image frames from D:/Data/movement/basic_action/train\\Left_Punch\\Left_Punch_21\n",
      "Reading image frames from D:/Data/movement/basic_action/train\\Left_Punch\\Left_Punch_22\n",
      "Reading image frames from D:/Data/movement/basic_action/train\\Left_Punch\\Left_Punch_23\n",
      "Reading image frames from D:/Data/movement/basic_action/train\\Left_Punch\\Left_Punch_24\n",
      "Reading image frames from D:/Data/movement/basic_action/train\\Left_Punch\\Left_Punch_25\n",
      "Reading image frames from D:/Data/movement/basic_action/train\\Left_Punch\\Left_Punch_26\n",
      "Reading image frames from D:/Data/movement/basic_action/train\\Left_Punch\\Left_Punch_27\n",
      "Reading image frames from D:/Data/movement/basic_action/train\\Left_Punch\\Left_Punch_28\n",
      "Reading image frames from D:/Data/movement/basic_action/train\\Left_Punch\\Left_Punch_29\n",
      "Reading image frames from D:/Data/movement/basic_action/train\\Left_Punch\\Left_Punch_30\n",
      "Right_Kick contains 30 subfolders.\n",
      "Reading image frames from D:/Data/movement/basic_action/train\\Right_Kick\\Right_Kick_01\n",
      "Reading image frames from D:/Data/movement/basic_action/train\\Right_Kick\\Right_Kick_02\n",
      "Reading image frames from D:/Data/movement/basic_action/train\\Right_Kick\\Right_Kick_03\n",
      "Reading image frames from D:/Data/movement/basic_action/train\\Right_Kick\\Right_Kick_04\n",
      "Reading image frames from D:/Data/movement/basic_action/train\\Right_Kick\\Right_Kick_05\n",
      "Reading image frames from D:/Data/movement/basic_action/train\\Right_Kick\\Right_Kick_06\n",
      "Reading image frames from D:/Data/movement/basic_action/train\\Right_Kick\\Right_Kick_07\n",
      "Reading image frames from D:/Data/movement/basic_action/train\\Right_Kick\\Right_Kick_08\n",
      "Reading image frames from D:/Data/movement/basic_action/train\\Right_Kick\\Right_Kick_09\n",
      "Reading image frames from D:/Data/movement/basic_action/train\\Right_Kick\\Right_Kick_10\n",
      "Reading image frames from D:/Data/movement/basic_action/train\\Right_Kick\\Right_Kick_11\n",
      "Reading image frames from D:/Data/movement/basic_action/train\\Right_Kick\\Right_Kick_12\n",
      "Reading image frames from D:/Data/movement/basic_action/train\\Right_Kick\\Right_Kick_13\n",
      "Reading image frames from D:/Data/movement/basic_action/train\\Right_Kick\\Right_Kick_14\n",
      "Reading image frames from D:/Data/movement/basic_action/train\\Right_Kick\\Right_Kick_15\n",
      "Reading image frames from D:/Data/movement/basic_action/train\\Right_Kick\\Right_Kick_16\n",
      "Reading image frames from D:/Data/movement/basic_action/train\\Right_Kick\\Right_Kick_17\n",
      "Reading image frames from D:/Data/movement/basic_action/train\\Right_Kick\\Right_Kick_18\n",
      "Reading image frames from D:/Data/movement/basic_action/train\\Right_Kick\\Right_Kick_19\n",
      "Reading image frames from D:/Data/movement/basic_action/train\\Right_Kick\\Right_Kick_20\n",
      "Reading image frames from D:/Data/movement/basic_action/train\\Right_Kick\\Right_Kick_21\n",
      "Reading image frames from D:/Data/movement/basic_action/train\\Right_Kick\\Right_Kick_22\n",
      "Reading image frames from D:/Data/movement/basic_action/train\\Right_Kick\\Right_Kick_23\n",
      "Reading image frames from D:/Data/movement/basic_action/train\\Right_Kick\\Right_Kick_24\n",
      "Reading image frames from D:/Data/movement/basic_action/train\\Right_Kick\\Right_Kick_25\n",
      "Reading image frames from D:/Data/movement/basic_action/train\\Right_Kick\\Right_Kick_26\n",
      "Reading image frames from D:/Data/movement/basic_action/train\\Right_Kick\\Right_Kick_27\n",
      "Reading image frames from D:/Data/movement/basic_action/train\\Right_Kick\\Right_Kick_28\n",
      "Reading image frames from D:/Data/movement/basic_action/train\\Right_Kick\\Right_Kick_29\n",
      "Reading image frames from D:/Data/movement/basic_action/train\\Right_Kick\\Right_Kick_30\n",
      "Right_Punch contains 30 subfolders.\n",
      "Reading image frames from D:/Data/movement/basic_action/train\\Right_Punch\\Right_Punch_01\n",
      "Reading image frames from D:/Data/movement/basic_action/train\\Right_Punch\\Right_Punch_02\n",
      "Reading image frames from D:/Data/movement/basic_action/train\\Right_Punch\\Right_Punch_03\n",
      "Reading image frames from D:/Data/movement/basic_action/train\\Right_Punch\\Right_Punch_04\n",
      "Reading image frames from D:/Data/movement/basic_action/train\\Right_Punch\\Right_Punch_05\n",
      "Reading image frames from D:/Data/movement/basic_action/train\\Right_Punch\\Right_Punch_06\n",
      "Reading image frames from D:/Data/movement/basic_action/train\\Right_Punch\\Right_Punch_07\n",
      "Reading image frames from D:/Data/movement/basic_action/train\\Right_Punch\\Right_Punch_08\n",
      "Reading image frames from D:/Data/movement/basic_action/train\\Right_Punch\\Right_Punch_09\n",
      "Reading image frames from D:/Data/movement/basic_action/train\\Right_Punch\\Right_Punch_10\n",
      "Reading image frames from D:/Data/movement/basic_action/train\\Right_Punch\\Right_Punch_11\n",
      "Reading image frames from D:/Data/movement/basic_action/train\\Right_Punch\\Right_Punch_12\n",
      "Reading image frames from D:/Data/movement/basic_action/train\\Right_Punch\\Right_Punch_13\n",
      "Reading image frames from D:/Data/movement/basic_action/train\\Right_Punch\\Right_Punch_14\n",
      "Reading image frames from D:/Data/movement/basic_action/train\\Right_Punch\\Right_Punch_15\n",
      "Reading image frames from D:/Data/movement/basic_action/train\\Right_Punch\\Right_Punch_16\n",
      "Reading image frames from D:/Data/movement/basic_action/train\\Right_Punch\\Right_Punch_17\n",
      "Reading image frames from D:/Data/movement/basic_action/train\\Right_Punch\\Right_Punch_18\n",
      "Reading image frames from D:/Data/movement/basic_action/train\\Right_Punch\\Right_Punch_19\n",
      "Reading image frames from D:/Data/movement/basic_action/train\\Right_Punch\\Right_Punch_20\n",
      "Reading image frames from D:/Data/movement/basic_action/train\\Right_Punch\\Right_Punch_21\n",
      "Reading image frames from D:/Data/movement/basic_action/train\\Right_Punch\\Right_Punch_22\n",
      "Reading image frames from D:/Data/movement/basic_action/train\\Right_Punch\\Right_Punch_23\n",
      "Reading image frames from D:/Data/movement/basic_action/train\\Right_Punch\\Right_Punch_24\n",
      "Reading image frames from D:/Data/movement/basic_action/train\\Right_Punch\\Right_Punch_25\n",
      "Reading image frames from D:/Data/movement/basic_action/train\\Right_Punch\\Right_Punch_26\n",
      "Reading image frames from D:/Data/movement/basic_action/train\\Right_Punch\\Right_Punch_27\n",
      "Reading image frames from D:/Data/movement/basic_action/train\\Right_Punch\\Right_Punch_28\n",
      "Reading image frames from D:/Data/movement/basic_action/train\\Right_Punch\\Right_Punch_29\n",
      "Reading image frames from D:/Data/movement/basic_action/train\\Right_Punch\\Right_Punch_30\n",
      "Wave contains 29 subfolders.\n",
      "Reading image frames from D:/Data/movement/basic_action/train\\Wave\\Wave_01\n",
      "Reading image frames from D:/Data/movement/basic_action/train\\Wave\\Wave_02\n",
      "Reading image frames from D:/Data/movement/basic_action/train\\Wave\\Wave_03\n",
      "Reading image frames from D:/Data/movement/basic_action/train\\Wave\\Wave_04\n",
      "Reading image frames from D:/Data/movement/basic_action/train\\Wave\\Wave_05\n",
      "Reading image frames from D:/Data/movement/basic_action/train\\Wave\\Wave_06\n",
      "Reading image frames from D:/Data/movement/basic_action/train\\Wave\\Wave_07\n",
      "Reading image frames from D:/Data/movement/basic_action/train\\Wave\\Wave_08\n",
      "Reading image frames from D:/Data/movement/basic_action/train\\Wave\\Wave_09\n",
      "Reading image frames from D:/Data/movement/basic_action/train\\Wave\\Wave_10\n",
      "Reading image frames from D:/Data/movement/basic_action/train\\Wave\\Wave_11\n",
      "Reading image frames from D:/Data/movement/basic_action/train\\Wave\\Wave_12\n",
      "Reading image frames from D:/Data/movement/basic_action/train\\Wave\\Wave_13\n",
      "Reading image frames from D:/Data/movement/basic_action/train\\Wave\\Wave_14\n",
      "Reading image frames from D:/Data/movement/basic_action/train\\Wave\\Wave_15\n",
      "Reading image frames from D:/Data/movement/basic_action/train\\Wave\\Wave_17\n",
      "Reading image frames from D:/Data/movement/basic_action/train\\Wave\\Wave_18\n",
      "Reading image frames from D:/Data/movement/basic_action/train\\Wave\\Wave_19\n",
      "Reading image frames from D:/Data/movement/basic_action/train\\Wave\\Wave_20\n",
      "Reading image frames from D:/Data/movement/basic_action/train\\Wave\\Wave_21\n",
      "Reading image frames from D:/Data/movement/basic_action/train\\Wave\\Wave_22\n",
      "Reading image frames from D:/Data/movement/basic_action/train\\Wave\\Wave_23\n",
      "Reading image frames from D:/Data/movement/basic_action/train\\Wave\\Wave_24\n",
      "Reading image frames from D:/Data/movement/basic_action/train\\Wave\\Wave_25\n",
      "Reading image frames from D:/Data/movement/basic_action/train\\Wave\\Wave_26\n",
      "Reading image frames from D:/Data/movement/basic_action/train\\Wave\\Wave_27\n"
     ]
    },
    {
     "name": "stdout",
     "output_type": "stream",
     "text": [
      "Reading image frames from D:/Data/movement/basic_action/train\\Wave\\Wave_28\n",
      "Reading image frames from D:/Data/movement/basic_action/train\\Wave\\Wave_29\n",
      "Reading image frames from D:/Data/movement/basic_action/train\\Wave\\Wave_30\n",
      "Loading Basic Action Dataset Completed.\n",
      "Action data shape (195, 512)\n",
      "Action data labels shape (195,)\n"
     ]
    }
   ],
   "source": [
    "# Load dataset. This will take some time for the first loading\n",
    "x, y = load_basic_action_dataset()\n",
    "\n",
    "print(\"Action data shape\", x.shape)\n",
    "print(\"Action data labels shape\", y.shape)"
   ]
  },
  {
   "cell_type": "code",
   "execution_count": 81,
   "metadata": {},
   "outputs": [],
   "source": [
    "# train test split\n",
    "x_train, x_test, y_train, y_test = train_test_split(x, y, test_size=0.2, random_state=42)"
   ]
  },
  {
   "cell_type": "code",
   "execution_count": 82,
   "metadata": {},
   "outputs": [],
   "source": [
    "# Save the data as csv\n",
    "train_save = pd.DataFrame(data = x_train)\n",
    "train_save[\"label\"] = y_train\n",
    "train_save.to_csv(r'data/UCF11_train.csv', index= False, header = True)\n",
    "test_save = pd.DataFrame(data = x_test)\n",
    "test_save[\"label\"] = y_test\n",
    "test_save.to_csv(r'data/UCF11_test.csv', index= False, header = True)"
   ]
  },
  {
   "cell_type": "markdown",
   "metadata": {},
   "source": [
    "## Load Processed Data from .csv File"
   ]
  },
  {
   "cell_type": "code",
   "execution_count": 83,
   "metadata": {},
   "outputs": [],
   "source": [
    "# Load train and test data from saved csv\n",
    "train_data = pd.read_csv('data/UCF11_train.csv')\n",
    "\n",
    "x_train = train_data.drop(columns='label')\n",
    "x_train = np.array(x_train)\n",
    "y_train = train_data['label']\n",
    "y_train = np.array(y_train)\n",
    "\n",
    "test_data = pd.read_csv('data/UCF11_test.csv')\n",
    "\n",
    "x_test = test_data.drop(columns='label')\n",
    "x_test = np.array(x_test)\n",
    "y_test = test_data['label']\n",
    "y_test = np.array(y_test)"
   ]
  },
  {
   "cell_type": "markdown",
   "metadata": {},
   "source": [
    "## Logistic Regression as Final Layer\n",
    "Freeze the underlying HumanPoseNN and GaitNN and only train the final layer"
   ]
  },
  {
   "cell_type": "code",
   "execution_count": 84,
   "metadata": {},
   "outputs": [
    {
     "name": "stderr",
     "output_type": "stream",
     "text": [
      "C:\\Users\\Yuhao\\Anaconda3\\lib\\site-packages\\sklearn\\linear_model\\logistic.py:433: FutureWarning: Default solver will be changed to 'lbfgs' in 0.22. Specify a solver to silence this warning.\n",
      "  FutureWarning)\n",
      "C:\\Users\\Yuhao\\Anaconda3\\lib\\site-packages\\sklearn\\linear_model\\logistic.py:460: FutureWarning: Default multi_class will be changed to 'auto' in 0.22. Specify the multi_class option to silence this warning.\n",
      "  \"this warning.\", FutureWarning)\n"
     ]
    },
    {
     "data": {
      "text/plain": [
       "LogisticRegression(C=1.0, class_weight=None, dual=False, fit_intercept=True,\n",
       "          intercept_scaling=1, max_iter=100, multi_class='warn',\n",
       "          n_jobs=None, penalty='l2', random_state=None, solver='warn',\n",
       "          tol=0.0001, verbose=0, warm_start=False)"
      ]
     },
     "execution_count": 84,
     "metadata": {},
     "output_type": "execute_result"
    }
   ],
   "source": [
    "# Logistic Regression\n",
    "logreg = LogisticRegression()\n",
    "logreg.fit(x_train, y_train)"
   ]
  },
  {
   "cell_type": "code",
   "execution_count": 85,
   "metadata": {},
   "outputs": [
    {
     "data": {
      "text/plain": [
       "['models/logreg_ucf_11.sav']"
      ]
     },
     "execution_count": 85,
     "metadata": {},
     "output_type": "execute_result"
    }
   ],
   "source": [
    "# Save model\n",
    "joblib.dump(logreg, UCF_11_LOGREG_MODEL_PATH)"
   ]
  },
  {
   "cell_type": "markdown",
   "metadata": {},
   "source": [
    "## Evaluate Accuracy on D3G Dataset"
   ]
  },
  {
   "cell_type": "code",
   "execution_count": 76,
   "metadata": {},
   "outputs": [],
   "source": [
    "# load the models from disk\n",
    "logreg = joblib.load(G3D_LOGREG_MODEL_PATH)"
   ]
  },
  {
   "cell_type": "code",
   "execution_count": 77,
   "metadata": {},
   "outputs": [
    {
     "name": "stdout",
     "output_type": "stream",
     "text": [
      "LogReg accuracy: 0.9487179487179487\n"
     ]
    }
   ],
   "source": [
    "# evaluate logistic regression model\n",
    "y_pred_log = logreg.predict(x_test)\n",
    "print(\"LogReg accuracy on D3G Dataset:\", metrics.accuracy_score(y_test, y_pred_log))"
   ]
  },
  {
   "cell_type": "markdown",
   "metadata": {},
   "source": [
    "## Evaluate Accuracy on UCF11 Dataset"
   ]
  },
  {
   "cell_type": "code",
   "execution_count": 87,
   "metadata": {},
   "outputs": [],
   "source": [
    "# load the models from disk\n",
    "logreg = joblib.load(UCF_11_LOGREG_MODEL_PATH)"
   ]
  },
  {
   "cell_type": "code",
   "execution_count": 88,
   "metadata": {},
   "outputs": [
    {
     "name": "stdout",
     "output_type": "stream",
     "text": [
      "LogReg accuracy on UCF11 Dataset: 0.7424242424242424\n"
     ]
    }
   ],
   "source": [
    "# evaluate logistic regression model\n",
    "y_pred_log = logreg.predict(x_test)\n",
    "print(\"LogReg accuracy on UCF11 Dataset:\", metrics.accuracy_score(y_test, y_pred_log))"
   ]
  },
  {
   "cell_type": "markdown",
   "metadata": {},
   "source": [
    "## Prediction\n",
    "We will use LogReg model as the last layer for classification."
   ]
  },
  {
   "cell_type": "code",
   "execution_count": 89,
   "metadata": {},
   "outputs": [],
   "source": [
    "def predict_action(video_path, model):\n",
    "    video_frames = read_video_frames(video_path)\n",
    "    temporal_features = extract_features(video_frames)\n",
    "\n",
    "    sample_features = []\n",
    "    sample_features.append(temporal_features)\n",
    "    sample_x =  np.array(sample_features, dtype='float32')\n",
    "\n",
    "    # Predict\n",
    "    sample_pred = model.predict(sample_x)\n",
    "    # change the category here for different datasets\n",
    "    print(UCF_11_CATEGORIES[sample_pred[0]]) "
   ]
  },
  {
   "cell_type": "markdown",
   "metadata": {},
   "source": [
    "## Predict Sample Videos on G3D Dataset\n",
    "### Notice that the left and right are defined from the perspective of the viewer. "
   ]
  },
  {
   "cell_type": "code",
   "execution_count": 80,
   "metadata": {},
   "outputs": [
    {
     "name": "stdout",
     "output_type": "stream",
     "text": [
      "Reading video frames from samples/test_7.mp4\n",
      "Left Kick\n"
     ]
    },
    {
     "data": {
      "application/vnd.jupyter.widget-view+json": {
       "model_id": "1a960bb15d454b75a2eff1462a1a85fd",
       "version_major": 2,
       "version_minor": 0
      },
      "text/plain": [
       "Video(value=b'\\x00\\x00\\x00 ftypisom\\x00\\x00\\x02\\x00isomiso2avc1mp41\\x00\\x00\\x03\\xbdmoov\\x00\\x00\\x00lmvhd\\x00\\x…"
      ]
     },
     "metadata": {},
     "output_type": "display_data"
    }
   ],
   "source": [
    "sample_video_path = \"samples/test_7.mp4\"\n",
    "predict_action(sample_video_path, logreg)\n",
    "video = Video.from_file(sample_video_path)\n",
    "video"
   ]
  },
  {
   "cell_type": "code",
   "execution_count": 65,
   "metadata": {},
   "outputs": [
    {
     "name": "stdout",
     "output_type": "stream",
     "text": [
      "Reading video frames from D:/Data/movement/basic_action/test/test_6.mp4\n",
      "Right Kick\n"
     ]
    },
    {
     "data": {
      "application/vnd.jupyter.widget-view+json": {
       "model_id": "d3d3c7368e5847bea79f611a18c6f6e6",
       "version_major": 2,
       "version_minor": 0
      },
      "text/plain": [
       "Video(value=b'\\x00\\x00\\x00 ftypisom\\x00\\x00\\x02\\x00isomiso2avc1mp41\\x00\\x00\\x03\\x89moov\\x00\\x00\\x00lmvhd\\x00\\x…"
      ]
     },
     "metadata": {},
     "output_type": "display_data"
    }
   ],
   "source": [
    "sample_video_path = \"samples/test_6.mp4\"\n",
    "predict_action(sample_video_path, logreg)\n",
    "video = Video.from_file(sample_video_path)\n",
    "video"
   ]
  },
  {
   "cell_type": "code",
   "execution_count": 67,
   "metadata": {},
   "outputs": [
    {
     "name": "stdout",
     "output_type": "stream",
     "text": [
      "Reading video frames from D:/Data/movement/basic_action/test/test_8.mp4\n",
      "Flap Arms\n"
     ]
    },
    {
     "data": {
      "application/vnd.jupyter.widget-view+json": {
       "model_id": "ac9c9c798b2c4eb68b122e3f44b42cea",
       "version_major": 2,
       "version_minor": 0
      },
      "text/plain": [
       "Video(value=b'\\x00\\x00\\x00 ftypisom\\x00\\x00\\x02\\x00isomiso2avc1mp41\\x00\\x00\\x03\\xf9moov\\x00\\x00\\x00lmvhd\\x00\\x…"
      ]
     },
     "metadata": {},
     "output_type": "display_data"
    }
   ],
   "source": [
    "sample_video_path = \"samples/test_8.mp4\"\n",
    "predict_action(sample_video_path, logreg)\n",
    "video = Video.from_file(sample_video_path)\n",
    "video"
   ]
  },
  {
   "cell_type": "code",
   "execution_count": 68,
   "metadata": {},
   "outputs": [
    {
     "name": "stdout",
     "output_type": "stream",
     "text": [
      "Reading video frames from D:/Data/movement/basic_action/test/test_9.mp4\n",
      "Left Punch\n"
     ]
    },
    {
     "data": {
      "application/vnd.jupyter.widget-view+json": {
       "model_id": "0694dab2fd2140a28b5c31e253f38219",
       "version_major": 2,
       "version_minor": 0
      },
      "text/plain": [
       "Video(value=b'\\x00\\x00\\x00 ftypisom\\x00\\x00\\x02\\x00isomiso2avc1mp41\\x00\\x00\\x035moov\\x00\\x00\\x00lmvhd\\x00\\x00\\…"
      ]
     },
     "metadata": {},
     "output_type": "display_data"
    }
   ],
   "source": [
    "sample_video_path = \"samples/test_9.mp4\"\n",
    "predict_action(sample_video_path, logreg)\n",
    "video = Video.from_file(sample_video_path)\n",
    "video"
   ]
  },
  {
   "cell_type": "markdown",
   "metadata": {},
   "source": [
    "## Predict Sample Videos on UCF11 Dataset"
   ]
  },
  {
   "cell_type": "code",
   "execution_count": 90,
   "metadata": {},
   "outputs": [
    {
     "name": "stdout",
     "output_type": "stream",
     "text": [
      "Reading video frames from samples/test_1.mp4\n",
      "horse_riding\n"
     ]
    },
    {
     "data": {
      "application/vnd.jupyter.widget-view+json": {
       "model_id": "ce7b36cb38d84a2ab7414529645a422a",
       "version_major": 2,
       "version_minor": 0
      },
      "text/plain": [
       "Video(value=b'\\x00\\x00\\x00 ftypisom\\x00\\x00\\x02\\x00isomiso2avc1mp41\\x00\\x00\\x00\\x08free\\x00\\x05\\xecZmdat\\x00\\x…"
      ]
     },
     "metadata": {},
     "output_type": "display_data"
    }
   ],
   "source": [
    "sample_video_path = \"samples/test_1.mp4\"\n",
    "predict_action(sample_video_path, logreg)\n",
    "video = Video.from_file(sample_video_path)\n",
    "video"
   ]
  },
  {
   "cell_type": "code",
   "execution_count": 95,
   "metadata": {},
   "outputs": [
    {
     "name": "stdout",
     "output_type": "stream",
     "text": [
      "Reading video frames from samples/test_4.mp4\n",
      "soccer_juggling\n"
     ]
    },
    {
     "data": {
      "application/vnd.jupyter.widget-view+json": {
       "model_id": "d9948f66941644e6a7c28d15798b95f1",
       "version_major": 2,
       "version_minor": 0
      },
      "text/plain": [
       "Video(value=b'\\x00\\x00\\x00 ftypisom\\x00\\x00\\x02\\x00isomiso2avc1mp41\\x00\\x00\\x11\\x97moov\\x00\\x00\\x00lmvhd\\x00\\x…"
      ]
     },
     "metadata": {},
     "output_type": "display_data"
    }
   ],
   "source": [
    "sample_video_path = \"samples/test_4.mp4\"\n",
    "predict_action(sample_video_path, logreg)\n",
    "video = Video.from_file(sample_video_path)\n",
    "video"
   ]
  },
  {
   "cell_type": "code",
   "execution_count": 98,
   "metadata": {},
   "outputs": [
    {
     "name": "stdout",
     "output_type": "stream",
     "text": [
      "Reading video frames from samples/test_5.mp4\n",
      "diving\n"
     ]
    },
    {
     "data": {
      "application/vnd.jupyter.widget-view+json": {
       "model_id": "b6727cfa31ef4d1581a383a40ac3e895",
       "version_major": 2,
       "version_minor": 0
      },
      "text/plain": [
       "Video(value=b'\\x00\\x00\\x00 ftypisom\\x00\\x00\\x02\\x00isomiso2avc1mp41\\x00\\x00\\x06\\xcbmoov\\x00\\x00\\x00lmvhd\\x00\\x…"
      ]
     },
     "metadata": {},
     "output_type": "display_data"
    }
   ],
   "source": [
    "sample_video_path = \"samples/test_5.mp4\"\n",
    "predict_action(sample_video_path, logreg)\n",
    "video = Video.from_file(sample_video_path)\n",
    "video"
   ]
  },
  {
   "cell_type": "markdown",
   "metadata": {},
   "source": [
    "## Some Wrong Predictions on UCF11 Dataset"
   ]
  },
  {
   "cell_type": "code",
   "execution_count": 93,
   "metadata": {},
   "outputs": [
    {
     "name": "stdout",
     "output_type": "stream",
     "text": [
      "Reading video frames from samples/test_3.mp4\n",
      "volleybal_spiking\n"
     ]
    },
    {
     "data": {
      "application/vnd.jupyter.widget-view+json": {
       "model_id": "2f430fe6dcd3448eb57a876ddfe65ee5",
       "version_major": 2,
       "version_minor": 0
      },
      "text/plain": [
       "Video(value=b'\\x00\\x00\\x00 ftypisom\\x00\\x00\\x02\\x00isomiso2avc1mp41\\x00\\x00\\x08\\xa3moov\\x00\\x00\\x00lmvhd\\x00\\x…"
      ]
     },
     "metadata": {},
     "output_type": "display_data"
    }
   ],
   "source": [
    "sample_video_path = \"samples/test_3.mp4\"\n",
    "predict_action(sample_video_path, logreg)\n",
    "video = Video.from_file(sample_video_path)\n",
    "video"
   ]
  },
  {
   "cell_type": "code",
   "execution_count": 92,
   "metadata": {},
   "outputs": [
    {
     "name": "stdout",
     "output_type": "stream",
     "text": [
      "Reading video frames from samples/test_2.mp4\n",
      "diving\n"
     ]
    },
    {
     "data": {
      "application/vnd.jupyter.widget-view+json": {
       "model_id": "21e5c1b89c5449ff83620ac2ea555844",
       "version_major": 2,
       "version_minor": 0
      },
      "text/plain": [
       "Video(value=b'\\x00\\x00\\x00 ftypisom\\x00\\x00\\x02\\x00isomiso2avc1mp41\\x00\\x00\\x05\\xf3moov\\x00\\x00\\x00lmvhd\\x00\\x…"
      ]
     },
     "metadata": {},
     "output_type": "display_data"
    }
   ],
   "source": [
    "sample_video_path = \"samples/test_2.mp4\"\n",
    "predict_action(sample_video_path, logreg)\n",
    "video = Video.from_file(sample_video_path)\n",
    "video"
   ]
  },
  {
   "cell_type": "markdown",
   "metadata": {},
   "source": [
    "## Discussion\n",
    "\n",
    "Our project was a great example of Transfer Learning. The model trained previously for human gait recognition was extended here to recognize general human actions. \n",
    "\n",
    "One advantage of our model for human action recognition was that it extracted only the spatial and temporal information of the human pose, thus excluding the background noises. It does not work well, as we had observed, on frames where the human subject was not in the center or was partially blocked. \n",
    "\n",
    "For future works, the natural extension of this project would be to enable real-time action recognition on video or camera stream. We would also be exploring the possibility of combining the current popular approaches with our model through Emsemble methods to see if better results could be achieved."
   ]
  }
 ],
 "metadata": {
  "kernelspec": {
   "display_name": "Python 3",
   "language": "python",
   "name": "python3"
  },
  "language_info": {
   "codemirror_mode": {
    "name": "ipython",
    "version": 3
   },
   "file_extension": ".py",
   "mimetype": "text/x-python",
   "name": "python",
   "nbconvert_exporter": "python",
   "pygments_lexer": "ipython3",
   "version": "3.7.3"
  }
 },
 "nbformat": 4,
 "nbformat_minor": 2
}